{
 "cells": [
  {
   "cell_type": "code",
   "execution_count": 56,
   "metadata": {},
   "outputs": [],
   "source": [
    "import statsmodels.api as sm\n",
    "import json\n",
    "import pandas as pd\n",
    "import matplotlib.pyplot as plt\n",
    "import warnings\n",
    "import numpy as np\n",
    "warnings.filterwarnings(\"ignore\")"
   ]
  },
  {
   "cell_type": "code",
   "execution_count": 11,
   "metadata": {},
   "outputs": [],
   "source": [
    "%matplotlib inline"
   ]
  },
  {
   "cell_type": "markdown",
   "metadata": {},
   "source": [
    "# Yelp ratings\n",
    "filter businesses that are restaurants"
   ]
  },
  {
   "cell_type": "code",
   "execution_count": 14,
   "metadata": {},
   "outputs": [],
   "source": [
    "def load_yelp(limit):\n",
    "    file1 = open('yelp_dataset/yelp_academic_dataset_review.json', 'r')\n",
    "    count = 0\n",
    "    users=[]\n",
    "    restaurants=[]\n",
    "    ratings=[]\n",
    "    reviews=[]\n",
    "    dates=[]\n",
    "    for line in file1:\n",
    "        count += 1\n",
    "        #print(count)\n",
    "        res = json.loads(line)\n",
    "        #print(res)\n",
    "        #break\n",
    "        users.append(res['user_id'])\n",
    "        restaurants.append(res['business_id'])\n",
    "        ratings.append(res['stars'])\n",
    "        # not using text any more\n",
    "        reviews.append(res['text'][0:1])\n",
    "        dates.append(res['date'])\n",
    "        if count==limit: break\n",
    "    # Closing files\n",
    "    file1.close()\n",
    "    df_yelp = pd.DataFrame(list(zip(users, restaurants,ratings,reviews,dates)),\n",
    "                   columns =['user', 'item','rating','review','date'])\n",
    "    print(len(df_yelp))\n",
    "    all_restaurants=get_restaurants()\n",
    "    df_test=pd.merge(df_yelp, all_restaurants, on='item', how='outer')\n",
    "    df_restaurants=df_test.dropna()\n",
    "    df_yelp=df_restaurants\n",
    "    return df_yelp\n",
    "\n",
    "\n",
    "def get_restaurants():    \n",
    "    file1 = open('yelp_dataset/yelp_academic_dataset_business.json', 'r')\n",
    "    count = 0\n",
    "    restaurants=[]\n",
    "    categories=[]\n",
    "    names=[]\n",
    "    for line in file1:\n",
    "        count += 1\n",
    "        res = json.loads(line)\n",
    "        #print(res)\n",
    "        #print(res['business_id'])\n",
    "        #print(res['categories'])\n",
    "        try:\n",
    "            if 'Restaurants' in res['categories']: \n",
    "                restaurants.append(res['business_id'])\n",
    "                #restaurants.append(res['name'])\n",
    "                categories.append(res['categories'])\n",
    "                names.append(res['name'])\n",
    "        except:\n",
    "            continue #print('error')\n",
    "        #if count==50: break\n",
    "    # Closing files\n",
    "    file1.close()\n",
    "    df = pd.DataFrame(list(zip(restaurants,categories,names)),\n",
    "                   columns =['item','category','name'])\n",
    "    return df"
   ]
  },
  {
   "cell_type": "code",
   "execution_count": 15,
   "metadata": {},
   "outputs": [
    {
     "name": "stdout",
     "output_type": "stream",
     "text": [
      "50001\n"
     ]
    }
   ],
   "source": [
    "df_yelp=load_yelp(1000000)\n"
   ]
  },
  {
   "cell_type": "code",
   "execution_count": 16,
   "metadata": {},
   "outputs": [
    {
     "data": {
      "text/html": [
       "<div>\n",
       "<style scoped>\n",
       "    .dataframe tbody tr th:only-of-type {\n",
       "        vertical-align: middle;\n",
       "    }\n",
       "\n",
       "    .dataframe tbody tr th {\n",
       "        vertical-align: top;\n",
       "    }\n",
       "\n",
       "    .dataframe thead th {\n",
       "        text-align: right;\n",
       "    }\n",
       "</style>\n",
       "<table border=\"1\" class=\"dataframe\">\n",
       "  <thead>\n",
       "    <tr style=\"text-align: right;\">\n",
       "      <th></th>\n",
       "      <th>user</th>\n",
       "      <th>item</th>\n",
       "      <th>rating</th>\n",
       "      <th>review</th>\n",
       "      <th>date</th>\n",
       "      <th>category</th>\n",
       "      <th>name</th>\n",
       "    </tr>\n",
       "  </thead>\n",
       "  <tbody>\n",
       "    <tr>\n",
       "      <th>0</th>\n",
       "      <td>mh_-eMZ6K5RLWhZyISBhwA</td>\n",
       "      <td>XQfwVwDr-v0ZS3_CbbE5Xw</td>\n",
       "      <td>3.0</td>\n",
       "      <td>I</td>\n",
       "      <td>2018-07-07 22:09:11</td>\n",
       "      <td>Restaurants, Breakfast &amp; Brunch, Food, Juice B...</td>\n",
       "      <td>Turning Point of North Wales</td>\n",
       "    </tr>\n",
       "    <tr>\n",
       "      <th>1</th>\n",
       "      <td>Iaee7y6zdSB3B-kRCo4z1w</td>\n",
       "      <td>XQfwVwDr-v0ZS3_CbbE5Xw</td>\n",
       "      <td>2.0</td>\n",
       "      <td>T</td>\n",
       "      <td>2017-05-13 17:06:55</td>\n",
       "      <td>Restaurants, Breakfast &amp; Brunch, Food, Juice B...</td>\n",
       "      <td>Turning Point of North Wales</td>\n",
       "    </tr>\n",
       "    <tr>\n",
       "      <th>2</th>\n",
       "      <td>ejFxLGqQcWNLdNByJlIhnQ</td>\n",
       "      <td>XQfwVwDr-v0ZS3_CbbE5Xw</td>\n",
       "      <td>4.0</td>\n",
       "      <td>T</td>\n",
       "      <td>2017-08-08 00:58:18</td>\n",
       "      <td>Restaurants, Breakfast &amp; Brunch, Food, Juice B...</td>\n",
       "      <td>Turning Point of North Wales</td>\n",
       "    </tr>\n",
       "    <tr>\n",
       "      <th>3</th>\n",
       "      <td>f7xa0p_1V9lx53iIGN5Sug</td>\n",
       "      <td>XQfwVwDr-v0ZS3_CbbE5Xw</td>\n",
       "      <td>3.0</td>\n",
       "      <td>W</td>\n",
       "      <td>2017-11-19 02:20:23</td>\n",
       "      <td>Restaurants, Breakfast &amp; Brunch, Food, Juice B...</td>\n",
       "      <td>Turning Point of North Wales</td>\n",
       "    </tr>\n",
       "    <tr>\n",
       "      <th>4</th>\n",
       "      <td>dCooFVCk8M1nVaQqcfTL3Q</td>\n",
       "      <td>XQfwVwDr-v0ZS3_CbbE5Xw</td>\n",
       "      <td>2.0</td>\n",
       "      <td>M</td>\n",
       "      <td>2017-09-09 17:49:47</td>\n",
       "      <td>Restaurants, Breakfast &amp; Brunch, Food, Juice B...</td>\n",
       "      <td>Turning Point of North Wales</td>\n",
       "    </tr>\n",
       "  </tbody>\n",
       "</table>\n",
       "</div>"
      ],
      "text/plain": [
       "                     user                    item  rating review  \\\n",
       "0  mh_-eMZ6K5RLWhZyISBhwA  XQfwVwDr-v0ZS3_CbbE5Xw     3.0      I   \n",
       "1  Iaee7y6zdSB3B-kRCo4z1w  XQfwVwDr-v0ZS3_CbbE5Xw     2.0      T   \n",
       "2  ejFxLGqQcWNLdNByJlIhnQ  XQfwVwDr-v0ZS3_CbbE5Xw     4.0      T   \n",
       "3  f7xa0p_1V9lx53iIGN5Sug  XQfwVwDr-v0ZS3_CbbE5Xw     3.0      W   \n",
       "4  dCooFVCk8M1nVaQqcfTL3Q  XQfwVwDr-v0ZS3_CbbE5Xw     2.0      M   \n",
       "\n",
       "                  date                                           category  \\\n",
       "0  2018-07-07 22:09:11  Restaurants, Breakfast & Brunch, Food, Juice B...   \n",
       "1  2017-05-13 17:06:55  Restaurants, Breakfast & Brunch, Food, Juice B...   \n",
       "2  2017-08-08 00:58:18  Restaurants, Breakfast & Brunch, Food, Juice B...   \n",
       "3  2017-11-19 02:20:23  Restaurants, Breakfast & Brunch, Food, Juice B...   \n",
       "4  2017-09-09 17:49:47  Restaurants, Breakfast & Brunch, Food, Juice B...   \n",
       "\n",
       "                           name  \n",
       "0  Turning Point of North Wales  \n",
       "1  Turning Point of North Wales  \n",
       "2  Turning Point of North Wales  \n",
       "3  Turning Point of North Wales  \n",
       "4  Turning Point of North Wales  "
      ]
     },
     "execution_count": 16,
     "metadata": {},
     "output_type": "execute_result"
    }
   ],
   "source": [
    "df_yelp.head()"
   ]
  },
  {
   "cell_type": "code",
   "execution_count": 17,
   "metadata": {},
   "outputs": [
    {
     "data": {
      "text/plain": [
       "36150"
      ]
     },
     "execution_count": 17,
     "metadata": {},
     "output_type": "execute_result"
    }
   ],
   "source": [
    "len(df_yelp)"
   ]
  },
  {
   "cell_type": "code",
   "execution_count": 18,
   "metadata": {},
   "outputs": [
    {
     "data": {
      "text/plain": [
       "3.812005532503458"
      ]
     },
     "execution_count": 18,
     "metadata": {},
     "output_type": "execute_result"
    }
   ],
   "source": [
    "df_yelp['rating'].mean()"
   ]
  },
  {
   "cell_type": "code",
   "execution_count": 19,
   "metadata": {},
   "outputs": [],
   "source": [
    "df_yelp['year']=pd.DatetimeIndex(df_yelp['date']).year.tolist()"
   ]
  },
  {
   "cell_type": "code",
   "execution_count": 20,
   "metadata": {},
   "outputs": [
    {
     "data": {
      "text/plain": [
       "<Axes: xlabel='year'>"
      ]
     },
     "execution_count": 20,
     "metadata": {},
     "output_type": "execute_result"
    },
    {
     "data": {
      "image/png": "[encoded data removed]",
      "text/plain": [
       "<Figure size 640x480 with 1 Axes>"
      ]
     },
     "metadata": {},
     "output_type": "display_data"
    }
   ],
   "source": [
    "df_yelp.groupby('year').count()['rating'].plot.bar()"
   ]
  },
  {
   "cell_type": "code",
   "execution_count": 21,
   "metadata": {},
   "outputs": [],
   "source": [
    "all_items=df_yelp.groupby('item').count()"
   ]
  },
  {
   "cell_type": "markdown",
   "metadata": {},
   "source": [
    "# 52k restaurants in the full dataset"
   ]
  },
  {
   "cell_type": "code",
   "execution_count": 23,
   "metadata": {},
   "outputs": [
    {
     "data": {
      "text/plain": [
       "3664"
      ]
     },
     "execution_count": 23,
     "metadata": {},
     "output_type": "execute_result"
    }
   ],
   "source": [
    "len(all_items)"
   ]
  },
  {
   "cell_type": "code",
   "execution_count": 24,
   "metadata": {},
   "outputs": [],
   "source": [
    "all_users=df_yelp.groupby('user').count()"
   ]
  },
  {
   "cell_type": "markdown",
   "metadata": {},
   "source": [
    "# 1.4m users in the full review dataset"
   ]
  },
  {
   "cell_type": "code",
   "execution_count": 26,
   "metadata": {},
   "outputs": [
    {
     "data": {
      "text/plain": [
       "31939"
      ]
     },
     "execution_count": 26,
     "metadata": {},
     "output_type": "execute_result"
    }
   ],
   "source": [
    "len(all_users)"
   ]
  },
  {
   "cell_type": "markdown",
   "metadata": {},
   "source": [
    "# Yelp users"
   ]
  },
  {
   "cell_type": "code",
   "execution_count": 27,
   "metadata": {},
   "outputs": [],
   "source": [
    "def load_yelp_users(limit):\n",
    "    file1 = open('yelp_dataset/yelp_academic_dataset_user.json', 'r')\n",
    "    count = 0\n",
    "    users=[]\n",
    "    review_counts=[]\n",
    "    avg_ratings=[]\n",
    "    elite=[]\n",
    "    for line in file1:\n",
    "        count += 1\n",
    "        print(line)\n",
    "        res = json.loads(line)\n",
    "        print(res)\n",
    "        #break\n",
    "        users.append(res['user_id'])\n",
    "        review_counts.append(res['review_count'])\n",
    "        avg_ratings.append(res['average_stars'])\n",
    "        if count==limit: break\n",
    "    # Closing files\n",
    "    file1.close()\n",
    "    df_yelp_users = pd.DataFrame(list(zip(users, review_counts,avg_ratings)),\n",
    "                   columns =['user', 'review_count','avg_rating'])\n",
    "    return df_yelp_users\n"
   ]
  },
  {
   "cell_type": "code",
   "execution_count": 41,
   "metadata": {},
   "outputs": [
    {
     "name": "stderr",
     "output_type": "stream",
     "text": [
      "IOPub data rate exceeded.\n",
      "The Jupyter server will temporarily stop sending output\n",
      "to the client in order to avoid crashing it.\n",
      "To change this limit, set the config variable\n",
      "`--ServerApp.iopub_data_rate_limit`.\n",
      "\n",
      "Current values:\n",
      "ServerApp.iopub_data_rate_limit=1000000.0 (bytes/sec)\n",
      "ServerApp.rate_limit_window=3.0 (secs)\n",
      "\n"
     ]
    }
   ],
   "source": [
    "df_yelp_users=load_yelp_users(100000000)"
   ]
  },
  {
   "cell_type": "code",
   "execution_count": 42,
   "metadata": {},
   "outputs": [
    {
     "data": {
      "text/plain": [
       "500001"
      ]
     },
     "execution_count": 42,
     "metadata": {},
     "output_type": "execute_result"
    }
   ],
   "source": [
    "len(df_yelp_users)"
   ]
  },
  {
   "cell_type": "code",
   "execution_count": 43,
   "metadata": {},
   "outputs": [],
   "source": [
    "df_yelp_users=df_yelp_users.set_index('user')"
   ]
  },
  {
   "cell_type": "code",
   "execution_count": 44,
   "metadata": {},
   "outputs": [],
   "source": [
    "#df_yelp_users['pikiness']=df_yelp_users['avg_rating']\n",
    "#df_yelp_users['count']=df_yelp_users['review_count']\n",
    "df_yelp_users = df_yelp_users.rename(columns={'avg_rating': 'pikiness', 'review_count': 'count'})"
   ]
  },
  {
   "cell_type": "code",
   "execution_count": 45,
   "metadata": {},
   "outputs": [
    {
     "data": {
      "text/html": [
       "<div>\n",
       "<style scoped>\n",
       "    .dataframe tbody tr th:only-of-type {\n",
       "        vertical-align: middle;\n",
       "    }\n",
       "\n",
       "    .dataframe tbody tr th {\n",
       "        vertical-align: top;\n",
       "    }\n",
       "\n",
       "    .dataframe thead th {\n",
       "        text-align: right;\n",
       "    }\n",
       "</style>\n",
       "<table border=\"1\" class=\"dataframe\">\n",
       "  <thead>\n",
       "    <tr style=\"text-align: right;\">\n",
       "      <th></th>\n",
       "      <th>count</th>\n",
       "      <th>pikiness</th>\n",
       "    </tr>\n",
       "    <tr>\n",
       "      <th>user</th>\n",
       "      <th></th>\n",
       "      <th></th>\n",
       "    </tr>\n",
       "  </thead>\n",
       "  <tbody>\n",
       "    <tr>\n",
       "      <th>qVc8ODYU5SZjKXVBgXdI7w</th>\n",
       "      <td>585</td>\n",
       "      <td>3.91</td>\n",
       "    </tr>\n",
       "    <tr>\n",
       "      <th>j14WgRoU_-2ZE1aw1dXrJg</th>\n",
       "      <td>4333</td>\n",
       "      <td>3.74</td>\n",
       "    </tr>\n",
       "    <tr>\n",
       "      <th>2WnXYQFK0hXEoTxPtV2zvg</th>\n",
       "      <td>665</td>\n",
       "      <td>3.32</td>\n",
       "    </tr>\n",
       "    <tr>\n",
       "      <th>SZDeASXq7o05mMNLshsdIA</th>\n",
       "      <td>224</td>\n",
       "      <td>4.27</td>\n",
       "    </tr>\n",
       "    <tr>\n",
       "      <th>hA5lMy-EnncsH4JoR-hFGQ</th>\n",
       "      <td>79</td>\n",
       "      <td>3.54</td>\n",
       "    </tr>\n",
       "  </tbody>\n",
       "</table>\n",
       "</div>"
      ],
      "text/plain": [
       "                        count  pikiness\n",
       "user                                   \n",
       "qVc8ODYU5SZjKXVBgXdI7w    585      3.91\n",
       "j14WgRoU_-2ZE1aw1dXrJg   4333      3.74\n",
       "2WnXYQFK0hXEoTxPtV2zvg    665      3.32\n",
       "SZDeASXq7o05mMNLshsdIA    224      4.27\n",
       "hA5lMy-EnncsH4JoR-hFGQ     79      3.54"
      ]
     },
     "execution_count": 45,
     "metadata": {},
     "output_type": "execute_result"
    }
   ],
   "source": [
    "df_yelp_users.head()"
   ]
  },
  {
   "cell_type": "code",
   "execution_count": 46,
   "metadata": {},
   "outputs": [
    {
     "data": {
      "text/plain": [
       "3.7377498645002714"
      ]
     },
     "execution_count": 46,
     "metadata": {},
     "output_type": "execute_result"
    }
   ],
   "source": [
    "df_yelp_users['pikiness'].mean()"
   ]
  },
  {
   "cell_type": "code",
   "execution_count": 47,
   "metadata": {},
   "outputs": [],
   "source": [
    "plt.rcParams['figure.figsize'] = [7, 5]"
   ]
  },
  {
   "cell_type": "code",
   "execution_count": 48,
   "metadata": {},
   "outputs": [
    {
     "name": "stdout",
     "output_type": "stream",
     "text": [
      "0\n",
      "1\n"
     ]
    },
    {
     "data": {
      "text/plain": [
       "Text(0, 0.5, 'count')"
      ]
     },
     "execution_count": 48,
     "metadata": {},
     "output_type": "execute_result"
    },
    {
     "data": {
      "image/png": "[encoded data removed]",
      "text/plain": [
       "<Figure size 700x500 with 1 Axes>"
      ]
     },
     "metadata": {},
     "output_type": "display_data"
    }
   ],
   "source": [
    "lower_bound=[0,5]\n",
    "upper_bound=[4,2000]\n",
    "for i in (0,1):\n",
    "    print(i)\n",
    "    \n",
    "    df_yelp_users[(df_yelp_users['count']>=lower_bound[i]) & (df_yelp_users['count']<=upper_bound[i])]['pikiness'].hist(label='users with between '+str(lower_bound[i])+' and '+str(upper_bound[i])+' ratings',alpha=0.5)\n",
    "    \n",
    "plt.legend(loc='upper left')\n",
    "plt.xlabel('user average rating')\n",
    "plt.ylabel('count')"
   ]
  },
  {
   "cell_type": "code",
   "execution_count": 49,
   "metadata": {},
   "outputs": [
    {
     "data": {
      "text/plain": [
       "5"
      ]
     },
     "execution_count": 49,
     "metadata": {},
     "output_type": "execute_result"
    }
   ],
   "source": [
    "lower_bound[i]"
   ]
  },
  {
   "cell_type": "code",
   "execution_count": 50,
   "metadata": {},
   "outputs": [
    {
     "name": "stdout",
     "output_type": "stream",
     "text": [
      "0\n",
      "5\n",
      "10\n",
      "20\n"
     ]
    },
    {
     "data": {
      "text/plain": [
       "<matplotlib.legend.Legend at 0x2985525b0>"
      ]
     },
     "execution_count": 50,
     "metadata": {},
     "output_type": "execute_result"
    },
    {
     "data": {
      "image/png": "[encoded data removed]",
      "text/plain": [
       "<Figure size 700x500 with 1 Axes>"
      ]
     },
     "metadata": {},
     "output_type": "display_data"
    }
   ],
   "source": [
    "for i in (0,5,10,20):\n",
    "    print(i)\n",
    "    df_yelp_users[df_yelp_users['count']>i]['pikiness'].hist(label='users with more than '+str(i)+' ratings')\n",
    "    \n",
    "plt.legend(loc='upper left')"
   ]
  },
  {
   "cell_type": "code",
   "execution_count": 51,
   "metadata": {},
   "outputs": [
    {
     "data": {
      "text/plain": [
       "3.43"
      ]
     },
     "execution_count": 51,
     "metadata": {},
     "output_type": "execute_result"
    }
   ],
   "source": [
    "df_yelp_users[df_yelp_users['count']>4]['pikiness'].quantile(.25)"
   ]
  },
  {
   "cell_type": "code",
   "execution_count": 52,
   "metadata": {},
   "outputs": [
    {
     "data": {
      "text/plain": [
       "3.9"
      ]
     },
     "execution_count": 52,
     "metadata": {},
     "output_type": "execute_result"
    }
   ],
   "source": [
    "df_yelp_users[df_yelp_users['count']>4]['pikiness'].quantile(.5)"
   ]
  },
  {
   "cell_type": "code",
   "execution_count": 53,
   "metadata": {},
   "outputs": [
    {
     "data": {
      "text/plain": [
       "4.31"
      ]
     },
     "execution_count": 53,
     "metadata": {},
     "output_type": "execute_result"
    }
   ],
   "source": [
    "df_yelp_users[df_yelp_users['count']>4]['pikiness'].quantile(.75)"
   ]
  },
  {
   "cell_type": "markdown",
   "metadata": {},
   "source": [
    "# after 5-10 ratings, average pickiness stabilizes"
   ]
  },
  {
   "cell_type": "code",
   "execution_count": 57,
   "metadata": {},
   "outputs": [],
   "source": [
    "df_yelp_users['log_count']=np.round(np.log10(df_yelp_users['count']),1)"
   ]
  },
  {
   "cell_type": "code",
   "execution_count": 58,
   "metadata": {},
   "outputs": [
    {
     "data": {
      "text/plain": [
       "<Axes: xlabel='count'>"
      ]
     },
     "execution_count": 58,
     "metadata": {},
     "output_type": "execute_result"
    },
    {
     "data": {
      "image/png": "[encoded data removed]",
      "text/plain": [
       "<Figure size 700x500 with 1 Axes>"
      ]
     },
     "metadata": {},
     "output_type": "display_data"
    }
   ],
   "source": [
    "df_yelp_users.groupby('count').mean()['pikiness'][1:40].plot()"
   ]
  },
  {
   "cell_type": "markdown",
   "metadata": {},
   "source": [
    "# Merge ratings with raters"
   ]
  },
  {
   "cell_type": "code",
   "execution_count": 59,
   "metadata": {},
   "outputs": [],
   "source": [
    "df_with_users = df_yelp.merge(df_yelp_users, \n",
    "               how = 'inner',\n",
    "               left_on = 'user',\n",
    "               right_on = 'user')"
   ]
  },
  {
   "cell_type": "code",
   "execution_count": 60,
   "metadata": {},
   "outputs": [
    {
     "data": {
      "text/plain": [
       "36150"
      ]
     },
     "execution_count": 60,
     "metadata": {},
     "output_type": "execute_result"
    }
   ],
   "source": [
    "len(df_with_users)"
   ]
  },
  {
   "cell_type": "code",
   "execution_count": 61,
   "metadata": {},
   "outputs": [
    {
     "data": {
      "text/html": [
       "<div>\n",
       "<style scoped>\n",
       "    .dataframe tbody tr th:only-of-type {\n",
       "        vertical-align: middle;\n",
       "    }\n",
       "\n",
       "    .dataframe tbody tr th {\n",
       "        vertical-align: top;\n",
       "    }\n",
       "\n",
       "    .dataframe thead th {\n",
       "        text-align: right;\n",
       "    }\n",
       "</style>\n",
       "<table border=\"1\" class=\"dataframe\">\n",
       "  <thead>\n",
       "    <tr style=\"text-align: right;\">\n",
       "      <th></th>\n",
       "      <th>user</th>\n",
       "      <th>item</th>\n",
       "      <th>rating</th>\n",
       "      <th>review</th>\n",
       "      <th>date</th>\n",
       "      <th>category</th>\n",
       "      <th>name</th>\n",
       "      <th>year</th>\n",
       "      <th>count</th>\n",
       "      <th>pikiness</th>\n",
       "      <th>log_count</th>\n",
       "    </tr>\n",
       "  </thead>\n",
       "  <tbody>\n",
       "    <tr>\n",
       "      <th>0</th>\n",
       "      <td>mh_-eMZ6K5RLWhZyISBhwA</td>\n",
       "      <td>XQfwVwDr-v0ZS3_CbbE5Xw</td>\n",
       "      <td>3.0</td>\n",
       "      <td>I</td>\n",
       "      <td>2018-07-07 22:09:11</td>\n",
       "      <td>Restaurants, Breakfast &amp; Brunch, Food, Juice B...</td>\n",
       "      <td>Turning Point of North Wales</td>\n",
       "      <td>2018</td>\n",
       "      <td>33</td>\n",
       "      <td>4.06</td>\n",
       "      <td>1.5</td>\n",
       "    </tr>\n",
       "    <tr>\n",
       "      <th>1</th>\n",
       "      <td>mh_-eMZ6K5RLWhZyISBhwA</td>\n",
       "      <td>d_tRshM-w6S4QxE4VVi8tQ</td>\n",
       "      <td>3.0</td>\n",
       "      <td>J</td>\n",
       "      <td>2017-03-05 14:26:14</td>\n",
       "      <td>American (New), Restaurants, Southern, Diners,...</td>\n",
       "      <td>Jones</td>\n",
       "      <td>2017</td>\n",
       "      <td>33</td>\n",
       "      <td>4.06</td>\n",
       "      <td>1.5</td>\n",
       "    </tr>\n",
       "    <tr>\n",
       "      <th>2</th>\n",
       "      <td>Iaee7y6zdSB3B-kRCo4z1w</td>\n",
       "      <td>XQfwVwDr-v0ZS3_CbbE5Xw</td>\n",
       "      <td>2.0</td>\n",
       "      <td>T</td>\n",
       "      <td>2017-05-13 17:06:55</td>\n",
       "      <td>Restaurants, Breakfast &amp; Brunch, Food, Juice B...</td>\n",
       "      <td>Turning Point of North Wales</td>\n",
       "      <td>2017</td>\n",
       "      <td>9</td>\n",
       "      <td>2.89</td>\n",
       "      <td>1.0</td>\n",
       "    </tr>\n",
       "    <tr>\n",
       "      <th>3</th>\n",
       "      <td>ejFxLGqQcWNLdNByJlIhnQ</td>\n",
       "      <td>XQfwVwDr-v0ZS3_CbbE5Xw</td>\n",
       "      <td>4.0</td>\n",
       "      <td>T</td>\n",
       "      <td>2017-08-08 00:58:18</td>\n",
       "      <td>Restaurants, Breakfast &amp; Brunch, Food, Juice B...</td>\n",
       "      <td>Turning Point of North Wales</td>\n",
       "      <td>2017</td>\n",
       "      <td>156</td>\n",
       "      <td>3.73</td>\n",
       "      <td>2.2</td>\n",
       "    </tr>\n",
       "    <tr>\n",
       "      <th>4</th>\n",
       "      <td>f7xa0p_1V9lx53iIGN5Sug</td>\n",
       "      <td>XQfwVwDr-v0ZS3_CbbE5Xw</td>\n",
       "      <td>3.0</td>\n",
       "      <td>W</td>\n",
       "      <td>2017-11-19 02:20:23</td>\n",
       "      <td>Restaurants, Breakfast &amp; Brunch, Food, Juice B...</td>\n",
       "      <td>Turning Point of North Wales</td>\n",
       "      <td>2017</td>\n",
       "      <td>196</td>\n",
       "      <td>3.69</td>\n",
       "      <td>2.3</td>\n",
       "    </tr>\n",
       "  </tbody>\n",
       "</table>\n",
       "</div>"
      ],
      "text/plain": [
       "                     user                    item  rating review  \\\n",
       "0  mh_-eMZ6K5RLWhZyISBhwA  XQfwVwDr-v0ZS3_CbbE5Xw     3.0      I   \n",
       "1  mh_-eMZ6K5RLWhZyISBhwA  d_tRshM-w6S4QxE4VVi8tQ     3.0      J   \n",
       "2  Iaee7y6zdSB3B-kRCo4z1w  XQfwVwDr-v0ZS3_CbbE5Xw     2.0      T   \n",
       "3  ejFxLGqQcWNLdNByJlIhnQ  XQfwVwDr-v0ZS3_CbbE5Xw     4.0      T   \n",
       "4  f7xa0p_1V9lx53iIGN5Sug  XQfwVwDr-v0ZS3_CbbE5Xw     3.0      W   \n",
       "\n",
       "                  date                                           category  \\\n",
       "0  2018-07-07 22:09:11  Restaurants, Breakfast & Brunch, Food, Juice B...   \n",
       "1  2017-03-05 14:26:14  American (New), Restaurants, Southern, Diners,...   \n",
       "2  2017-05-13 17:06:55  Restaurants, Breakfast & Brunch, Food, Juice B...   \n",
       "3  2017-08-08 00:58:18  Restaurants, Breakfast & Brunch, Food, Juice B...   \n",
       "4  2017-11-19 02:20:23  Restaurants, Breakfast & Brunch, Food, Juice B...   \n",
       "\n",
       "                           name  year  count  pikiness  log_count  \n",
       "0  Turning Point of North Wales  2018     33      4.06        1.5  \n",
       "1                         Jones  2017     33      4.06        1.5  \n",
       "2  Turning Point of North Wales  2017      9      2.89        1.0  \n",
       "3  Turning Point of North Wales  2017    156      3.73        2.2  \n",
       "4  Turning Point of North Wales  2017    196      3.69        2.3  "
      ]
     },
     "execution_count": 61,
     "metadata": {},
     "output_type": "execute_result"
    }
   ],
   "source": [
    "df_with_users.head()"
   ]
  },
  {
   "cell_type": "markdown",
   "metadata": {},
   "source": [
    "# Rater analysis\n",
    "\n",
    "note: half of the ratings come from users with >27 ratings"
   ]
  },
  {
   "cell_type": "code",
   "execution_count": 62,
   "metadata": {},
   "outputs": [],
   "source": [
    "def plot_histogram(df,condition,title):\n",
    "    norm=df[condition].groupby('rating').count()['user'].sum()\n",
    "    #print(norm)\n",
    "    (df[condition].groupby('rating').count()['user']/norm).plot.bar()\n",
    "    #print(df[condition].groupby('rating').count()['user'])\n",
    "    plt.title(title)\n",
    "    return norm,df[condition].groupby('rating').count()['user']/norm\n",
    "    \n",
    "def greatness_frequency(df_with_users,condition,title):\n",
    "    pct_great=[]\n",
    "    for i in range(1,6):\n",
    "        pct_great.append(df_with_users[(df_with_users['rating']==i) & (condition)]['great'].mean())\n",
    "    plt.bar([1,2,3,4,5],pct_great)\n",
    "    plt.title(title)\n",
    "    \n",
    "def amazingness_frequency(df_with_users,condition,title):\n",
    "    pct_great=[]\n",
    "    for i in range(1,6):\n",
    "        pct_great.append(df_with_users[(df_with_users['rating']==i) & (condition)]['amazing'].mean())\n",
    "    plt.bar([1,2,3,4,5],pct_great)\n",
    "    plt.title(title)\n",
    "    return np.array(pct_great)"
   ]
  },
  {
   "cell_type": "markdown",
   "metadata": {},
   "source": [
    "# two kind of raters: inflating and deflating"
   ]
  },
  {
   "cell_type": "code",
   "execution_count": 63,
   "metadata": {},
   "outputs": [
    {
     "data": {
      "text/plain": [
       "(6888,\n",
       " rating\n",
       " 1.0    0.215447\n",
       " 2.0    0.175087\n",
       " 3.0    0.150407\n",
       " 4.0    0.216899\n",
       " 5.0    0.242160\n",
       " Name: user, dtype: float64)"
      ]
     },
     "execution_count": 63,
     "metadata": {},
     "output_type": "execute_result"
    },
    {
     "data": {
      "image/png": "[encoded data removed]",
      "text/plain": [
       "<Figure size 700x500 with 1 Axes>"
      ]
     },
     "metadata": {},
     "output_type": "display_data"
    }
   ],
   "source": [
    "min_num_ratings=4\n",
    "deflaters=df_yelp_users[df_yelp_users['count']>min_num_ratings]['pikiness'].quantile(.25)\n",
    "\n",
    "plot_histogram(df_with_users,(df_with_users['pikiness']<deflaters) & (df_with_users['count']>min_num_ratings),'Ratings produced by deflating raters')"
   ]
  },
  {
   "cell_type": "code",
   "execution_count": 64,
   "metadata": {},
   "outputs": [
    {
     "data": {
      "text/plain": [
       "3.43"
      ]
     },
     "execution_count": 64,
     "metadata": {},
     "output_type": "execute_result"
    }
   ],
   "source": [
    "deflaters"
   ]
  },
  {
   "cell_type": "code",
   "execution_count": 65,
   "metadata": {},
   "outputs": [
    {
     "data": {
      "text/plain": [
       "(5853,\n",
       " rating\n",
       " 1.0    0.016060\n",
       " 2.0    0.024090\n",
       " 3.0    0.046472\n",
       " 4.0    0.207586\n",
       " 5.0    0.705792\n",
       " Name: user, dtype: float64)"
      ]
     },
     "execution_count": 65,
     "metadata": {},
     "output_type": "execute_result"
    },
    {
     "data": {
      "image/png": "[encoded data removed]",
      "text/plain": [
       "<Figure size 700x500 with 1 Axes>"
      ]
     },
     "metadata": {},
     "output_type": "display_data"
    }
   ],
   "source": [
    "inflaters=df_yelp_users[df_yelp_users['count']>min_num_ratings]['pikiness'].quantile(.75)\n",
    "\n",
    "plot_histogram(df_with_users,(df_with_users['pikiness']>inflaters) & (df_with_users['count']>min_num_ratings),'Ratings produced by inflating raters')"
   ]
  },
  {
   "cell_type": "code",
   "execution_count": 66,
   "metadata": {},
   "outputs": [
    {
     "data": {
      "text/plain": [
       "4.31"
      ]
     },
     "execution_count": 66,
     "metadata": {},
     "output_type": "execute_result"
    }
   ],
   "source": [
    "inflaters"
   ]
  },
  {
   "cell_type": "markdown",
   "metadata": {},
   "source": [
    "# restaurant analysis"
   ]
  },
  {
   "cell_type": "code",
   "execution_count": 67,
   "metadata": {},
   "outputs": [],
   "source": [
    "def load_yelp_businesses(limit):\n",
    "    file1 = open('yelp_dataset/yelp_academic_dataset_business.json', 'r')\n",
    "    count = 0\n",
    "    items=[]\n",
    "    review_counts=[]\n",
    "    avg_ratings=[]\n",
    "    names=[]\n",
    "    cities=[]\n",
    "    for line in file1:\n",
    "        count += 1\n",
    "        res = json.loads(line)\n",
    "        try:\n",
    "            \n",
    "            if 'Restaurants' in res['categories']: \n",
    "                #print(res)\n",
    "                items.append(res['business_id'])\n",
    "                cities.append(res['city'])\n",
    "                #categories.append(res['categories'])\n",
    "                names.append(res['name'])\n",
    "                review_counts.append(res['review_count'])\n",
    "                avg_ratings.append(res['stars'])\n",
    "        except:\n",
    "            continue #print('error')\n",
    "        if count==limit: break\n",
    "    # Closing files\n",
    "    file1.close()\n",
    "    df = pd.DataFrame(list(zip(items,names,review_counts,avg_ratings,cities)),\n",
    "                   columns =['item','name','item_rating_count','item_rating_avg','city'])\n",
    "    return df\n"
   ]
  },
  {
   "cell_type": "code",
   "execution_count": 68,
   "metadata": {},
   "outputs": [],
   "source": [
    "restaurants=load_yelp_businesses(100000000)"
   ]
  },
  {
   "cell_type": "code",
   "execution_count": 69,
   "metadata": {},
   "outputs": [
    {
     "data": {
      "text/html": [
       "<div>\n",
       "<style scoped>\n",
       "    .dataframe tbody tr th:only-of-type {\n",
       "        vertical-align: middle;\n",
       "    }\n",
       "\n",
       "    .dataframe tbody tr th {\n",
       "        vertical-align: top;\n",
       "    }\n",
       "\n",
       "    .dataframe thead th {\n",
       "        text-align: right;\n",
       "    }\n",
       "</style>\n",
       "<table border=\"1\" class=\"dataframe\">\n",
       "  <thead>\n",
       "    <tr style=\"text-align: right;\">\n",
       "      <th></th>\n",
       "      <th>item</th>\n",
       "      <th>name</th>\n",
       "      <th>item_rating_count</th>\n",
       "      <th>item_rating_avg</th>\n",
       "      <th>city</th>\n",
       "    </tr>\n",
       "  </thead>\n",
       "  <tbody>\n",
       "    <tr>\n",
       "      <th>0</th>\n",
       "      <td>MTSW4McQd7CbVtyjqoe9mw</td>\n",
       "      <td>St Honore Pastries</td>\n",
       "      <td>80</td>\n",
       "      <td>4.0</td>\n",
       "      <td>Philadelphia</td>\n",
       "    </tr>\n",
       "    <tr>\n",
       "      <th>1</th>\n",
       "      <td>CF33F8-E6oudUQ46HnavjQ</td>\n",
       "      <td>Sonic Drive-In</td>\n",
       "      <td>6</td>\n",
       "      <td>2.0</td>\n",
       "      <td>Ashland City</td>\n",
       "    </tr>\n",
       "    <tr>\n",
       "      <th>2</th>\n",
       "      <td>k0hlBqXX-Bt0vf1op7Jr1w</td>\n",
       "      <td>Tsevi's Pub And Grill</td>\n",
       "      <td>19</td>\n",
       "      <td>3.0</td>\n",
       "      <td>Affton</td>\n",
       "    </tr>\n",
       "    <tr>\n",
       "      <th>3</th>\n",
       "      <td>bBDDEgkFA1Otx9Lfe7BZUQ</td>\n",
       "      <td>Sonic Drive-In</td>\n",
       "      <td>10</td>\n",
       "      <td>1.5</td>\n",
       "      <td>Nashville</td>\n",
       "    </tr>\n",
       "    <tr>\n",
       "      <th>4</th>\n",
       "      <td>eEOYSgkmpB90uNA7lDOMRA</td>\n",
       "      <td>Vietnamese Food Truck</td>\n",
       "      <td>10</td>\n",
       "      <td>4.0</td>\n",
       "      <td>Tampa Bay</td>\n",
       "    </tr>\n",
       "  </tbody>\n",
       "</table>\n",
       "</div>"
      ],
      "text/plain": [
       "                     item                   name  item_rating_count  \\\n",
       "0  MTSW4McQd7CbVtyjqoe9mw     St Honore Pastries                 80   \n",
       "1  CF33F8-E6oudUQ46HnavjQ         Sonic Drive-In                  6   \n",
       "2  k0hlBqXX-Bt0vf1op7Jr1w  Tsevi's Pub And Grill                 19   \n",
       "3  bBDDEgkFA1Otx9Lfe7BZUQ         Sonic Drive-In                 10   \n",
       "4  eEOYSgkmpB90uNA7lDOMRA  Vietnamese Food Truck                 10   \n",
       "\n",
       "   item_rating_avg          city  \n",
       "0              4.0  Philadelphia  \n",
       "1              2.0  Ashland City  \n",
       "2              3.0        Affton  \n",
       "3              1.5     Nashville  \n",
       "4              4.0     Tampa Bay  "
      ]
     },
     "execution_count": 69,
     "metadata": {},
     "output_type": "execute_result"
    }
   ],
   "source": [
    "restaurants.head()"
   ]
  },
  {
   "cell_type": "code",
   "execution_count": 70,
   "metadata": {},
   "outputs": [],
   "source": [
    "restaurants.iloc[0:15000000].to_json('yelp_dataset/yelp_academic_dataset_business_small.json')"
   ]
  },
  {
   "cell_type": "code",
   "execution_count": 71,
   "metadata": {},
   "outputs": [
    {
     "data": {
      "text/plain": [
       "3.5141800958817075"
      ]
     },
     "execution_count": 71,
     "metadata": {},
     "output_type": "execute_result"
    }
   ],
   "source": [
    "restaurants['item_rating_avg'].mean()"
   ]
  },
  {
   "cell_type": "code",
   "execution_count": 72,
   "metadata": {},
   "outputs": [
    {
     "data": {
      "text/plain": [
       "17313"
      ]
     },
     "execution_count": 72,
     "metadata": {},
     "output_type": "execute_result"
    }
   ],
   "source": [
    "len(restaurants)"
   ]
  },
  {
   "cell_type": "code",
   "execution_count": null,
   "metadata": {
    "collapsed": true,
    "jupyter": {
     "outputs_hidden": true
    }
   },
   "outputs": [],
   "source": []
  },
  {
   "cell_type": "code",
   "execution_count": 73,
   "metadata": {},
   "outputs": [
    {
     "name": "stdout",
     "output_type": "stream",
     "text": [
      "0\n",
      "1\n",
      "2\n"
     ]
    },
    {
     "data": {
      "text/plain": [
       "<matplotlib.legend.Legend at 0x29e0f6a60>"
      ]
     },
     "execution_count": 73,
     "metadata": {},
     "output_type": "execute_result"
    },
    {
     "data": {
      "image/png": "[encoded data removed]",
      "text/plain": [
       "<Figure size 700x500 with 1 Axes>"
      ]
     },
     "metadata": {},
     "output_type": "display_data"
    }
   ],
   "source": [
    "lower_bound=[10,20,200]\n",
    "upper_bound=[19,200,2000]\n",
    "for i in (0,1,2):\n",
    "    print(i)\n",
    "    \n",
    "    #df_yelp_users[(df_yelp_users['count']>lower_bound[i]) & (df_yelp_users['count']<upper_bound[i])]['pikiness'].hist(label='users with between '+str(lower_bound[i])+' and '+str(upper_bound[i])+' ratings')\n",
    "    h=restaurants[(restaurants['item_rating_count']>lower_bound[i]) & (restaurants['item_rating_count']<upper_bound[i])]['item_rating_avg'].hist(bins=20,alpha=0.5,label='restaurant with between '+str(lower_bound[i])+' and '+str(upper_bound[i])+' ratings')\n",
    "\n",
    "plt.legend(loc='upper left')"
   ]
  },
  {
   "cell_type": "code",
   "execution_count": 74,
   "metadata": {
    "scrolled": true
   },
   "outputs": [
    {
     "name": "stdout",
     "output_type": "stream",
     "text": [
      "0\n",
      "10\n",
      "200\n"
     ]
    },
    {
     "data": {
      "text/plain": [
       "<matplotlib.legend.Legend at 0x29e5c4bb0>"
      ]
     },
     "execution_count": 74,
     "metadata": {},
     "output_type": "execute_result"
    },
    {
     "data": {
      "image/png": "[encoded data removed]",
      "text/plain": [
       "<Figure size 700x500 with 1 Axes>"
      ]
     },
     "metadata": {},
     "output_type": "display_data"
    }
   ],
   "source": [
    "for i in (0,10,200):\n",
    "    print(i)\n",
    "    #df_yelp_users[df_yelp_users['count']>i]['pikiness'].hist()\n",
    "    #restaurants[restaurants['item_rating_count']>i].groupby('item_rating_avg').count()['item'].plot.bar() \n",
    "    h=restaurants[restaurants['item_rating_count']>i]['item_rating_avg'].hist(bins=20,label='restaurant with more than '+str(i)+' ratings')\n",
    "\n",
    "plt.legend(loc='upper left')"
   ]
  },
  {
   "cell_type": "code",
   "execution_count": 75,
   "metadata": {},
   "outputs": [
    {
     "data": {
      "text/plain": [
       "city\n",
       "Philadelphia     547\n",
       "Tampa            286\n",
       "New Orleans      279\n",
       "Nashville        271\n",
       "Tucson           237\n",
       "Indianapolis     214\n",
       "Reno             172\n",
       "Saint Louis      162\n",
       "Santa Barbara    117\n",
       "Boise             65\n",
       "Name: item, dtype: int64"
      ]
     },
     "execution_count": 75,
     "metadata": {},
     "output_type": "execute_result"
    }
   ],
   "source": [
    "restaurants[restaurants['item_rating_count']>100].groupby('city').count()['item'].sort_values(ascending=False).iloc[0:10]"
   ]
  },
  {
   "cell_type": "markdown",
   "metadata": {},
   "source": [
    "# Merge ratings with restaurants"
   ]
  },
  {
   "cell_type": "code",
   "execution_count": 76,
   "metadata": {},
   "outputs": [],
   "source": [
    "df = df_with_users.merge(restaurants, \n",
    "               how = 'inner',\n",
    "               left_on = 'item',\n",
    "               right_on = 'item')"
   ]
  },
  {
   "cell_type": "code",
   "execution_count": 77,
   "metadata": {},
   "outputs": [
    {
     "data": {
      "text/plain": [
       "36150"
      ]
     },
     "execution_count": 77,
     "metadata": {},
     "output_type": "execute_result"
    }
   ],
   "source": [
    "len(df)"
   ]
  },
  {
   "cell_type": "code",
   "execution_count": 78,
   "metadata": {},
   "outputs": [
    {
     "data": {
      "text/html": [
       "<div>\n",
       "<style scoped>\n",
       "    .dataframe tbody tr th:only-of-type {\n",
       "        vertical-align: middle;\n",
       "    }\n",
       "\n",
       "    .dataframe tbody tr th {\n",
       "        vertical-align: top;\n",
       "    }\n",
       "\n",
       "    .dataframe thead th {\n",
       "        text-align: right;\n",
       "    }\n",
       "</style>\n",
       "<table border=\"1\" class=\"dataframe\">\n",
       "  <thead>\n",
       "    <tr style=\"text-align: right;\">\n",
       "      <th></th>\n",
       "      <th>user</th>\n",
       "      <th>item</th>\n",
       "      <th>rating</th>\n",
       "      <th>review</th>\n",
       "      <th>date</th>\n",
       "      <th>category</th>\n",
       "      <th>name_x</th>\n",
       "      <th>year</th>\n",
       "      <th>count</th>\n",
       "      <th>pikiness</th>\n",
       "      <th>log_count</th>\n",
       "      <th>name_y</th>\n",
       "      <th>item_rating_count</th>\n",
       "      <th>item_rating_avg</th>\n",
       "      <th>city</th>\n",
       "    </tr>\n",
       "  </thead>\n",
       "  <tbody>\n",
       "    <tr>\n",
       "      <th>0</th>\n",
       "      <td>mh_-eMZ6K5RLWhZyISBhwA</td>\n",
       "      <td>XQfwVwDr-v0ZS3_CbbE5Xw</td>\n",
       "      <td>3.0</td>\n",
       "      <td>I</td>\n",
       "      <td>2018-07-07 22:09:11</td>\n",
       "      <td>Restaurants, Breakfast &amp; Brunch, Food, Juice B...</td>\n",
       "      <td>Turning Point of North Wales</td>\n",
       "      <td>2018</td>\n",
       "      <td>33</td>\n",
       "      <td>4.06</td>\n",
       "      <td>1.5</td>\n",
       "      <td>Turning Point of North Wales</td>\n",
       "      <td>169</td>\n",
       "      <td>3.0</td>\n",
       "      <td>North Wales</td>\n",
       "    </tr>\n",
       "    <tr>\n",
       "      <th>1</th>\n",
       "      <td>Iaee7y6zdSB3B-kRCo4z1w</td>\n",
       "      <td>XQfwVwDr-v0ZS3_CbbE5Xw</td>\n",
       "      <td>2.0</td>\n",
       "      <td>T</td>\n",
       "      <td>2017-05-13 17:06:55</td>\n",
       "      <td>Restaurants, Breakfast &amp; Brunch, Food, Juice B...</td>\n",
       "      <td>Turning Point of North Wales</td>\n",
       "      <td>2017</td>\n",
       "      <td>9</td>\n",
       "      <td>2.89</td>\n",
       "      <td>1.0</td>\n",
       "      <td>Turning Point of North Wales</td>\n",
       "      <td>169</td>\n",
       "      <td>3.0</td>\n",
       "      <td>North Wales</td>\n",
       "    </tr>\n",
       "    <tr>\n",
       "      <th>2</th>\n",
       "      <td>ejFxLGqQcWNLdNByJlIhnQ</td>\n",
       "      <td>XQfwVwDr-v0ZS3_CbbE5Xw</td>\n",
       "      <td>4.0</td>\n",
       "      <td>T</td>\n",
       "      <td>2017-08-08 00:58:18</td>\n",
       "      <td>Restaurants, Breakfast &amp; Brunch, Food, Juice B...</td>\n",
       "      <td>Turning Point of North Wales</td>\n",
       "      <td>2017</td>\n",
       "      <td>156</td>\n",
       "      <td>3.73</td>\n",
       "      <td>2.2</td>\n",
       "      <td>Turning Point of North Wales</td>\n",
       "      <td>169</td>\n",
       "      <td>3.0</td>\n",
       "      <td>North Wales</td>\n",
       "    </tr>\n",
       "    <tr>\n",
       "      <th>3</th>\n",
       "      <td>f7xa0p_1V9lx53iIGN5Sug</td>\n",
       "      <td>XQfwVwDr-v0ZS3_CbbE5Xw</td>\n",
       "      <td>3.0</td>\n",
       "      <td>W</td>\n",
       "      <td>2017-11-19 02:20:23</td>\n",
       "      <td>Restaurants, Breakfast &amp; Brunch, Food, Juice B...</td>\n",
       "      <td>Turning Point of North Wales</td>\n",
       "      <td>2017</td>\n",
       "      <td>196</td>\n",
       "      <td>3.69</td>\n",
       "      <td>2.3</td>\n",
       "      <td>Turning Point of North Wales</td>\n",
       "      <td>169</td>\n",
       "      <td>3.0</td>\n",
       "      <td>North Wales</td>\n",
       "    </tr>\n",
       "    <tr>\n",
       "      <th>4</th>\n",
       "      <td>dCooFVCk8M1nVaQqcfTL3Q</td>\n",
       "      <td>XQfwVwDr-v0ZS3_CbbE5Xw</td>\n",
       "      <td>2.0</td>\n",
       "      <td>M</td>\n",
       "      <td>2017-09-09 17:49:47</td>\n",
       "      <td>Restaurants, Breakfast &amp; Brunch, Food, Juice B...</td>\n",
       "      <td>Turning Point of North Wales</td>\n",
       "      <td>2017</td>\n",
       "      <td>17</td>\n",
       "      <td>3.22</td>\n",
       "      <td>1.2</td>\n",
       "      <td>Turning Point of North Wales</td>\n",
       "      <td>169</td>\n",
       "      <td>3.0</td>\n",
       "      <td>North Wales</td>\n",
       "    </tr>\n",
       "  </tbody>\n",
       "</table>\n",
       "</div>"
      ],
      "text/plain": [
       "                     user                    item  rating review  \\\n",
       "0  mh_-eMZ6K5RLWhZyISBhwA  XQfwVwDr-v0ZS3_CbbE5Xw     3.0      I   \n",
       "1  Iaee7y6zdSB3B-kRCo4z1w  XQfwVwDr-v0ZS3_CbbE5Xw     2.0      T   \n",
       "2  ejFxLGqQcWNLdNByJlIhnQ  XQfwVwDr-v0ZS3_CbbE5Xw     4.0      T   \n",
       "3  f7xa0p_1V9lx53iIGN5Sug  XQfwVwDr-v0ZS3_CbbE5Xw     3.0      W   \n",
       "4  dCooFVCk8M1nVaQqcfTL3Q  XQfwVwDr-v0ZS3_CbbE5Xw     2.0      M   \n",
       "\n",
       "                  date                                           category  \\\n",
       "0  2018-07-07 22:09:11  Restaurants, Breakfast & Brunch, Food, Juice B...   \n",
       "1  2017-05-13 17:06:55  Restaurants, Breakfast & Brunch, Food, Juice B...   \n",
       "2  2017-08-08 00:58:18  Restaurants, Breakfast & Brunch, Food, Juice B...   \n",
       "3  2017-11-19 02:20:23  Restaurants, Breakfast & Brunch, Food, Juice B...   \n",
       "4  2017-09-09 17:49:47  Restaurants, Breakfast & Brunch, Food, Juice B...   \n",
       "\n",
       "                         name_x  year  count  pikiness  log_count  \\\n",
       "0  Turning Point of North Wales  2018     33      4.06        1.5   \n",
       "1  Turning Point of North Wales  2017      9      2.89        1.0   \n",
       "2  Turning Point of North Wales  2017    156      3.73        2.2   \n",
       "3  Turning Point of North Wales  2017    196      3.69        2.3   \n",
       "4  Turning Point of North Wales  2017     17      3.22        1.2   \n",
       "\n",
       "                         name_y  item_rating_count  item_rating_avg  \\\n",
       "0  Turning Point of North Wales                169              3.0   \n",
       "1  Turning Point of North Wales                169              3.0   \n",
       "2  Turning Point of North Wales                169              3.0   \n",
       "3  Turning Point of North Wales                169              3.0   \n",
       "4  Turning Point of North Wales                169              3.0   \n",
       "\n",
       "          city  \n",
       "0  North Wales  \n",
       "1  North Wales  \n",
       "2  North Wales  \n",
       "3  North Wales  \n",
       "4  North Wales  "
      ]
     },
     "execution_count": 78,
     "metadata": {},
     "output_type": "execute_result"
    }
   ],
   "source": [
    "df.head()"
   ]
  },
  {
   "cell_type": "code",
   "execution_count": 79,
   "metadata": {},
   "outputs": [],
   "source": [
    "min_num_ratings=4\n",
    "deflaters_th=df_yelp_users[df_yelp_users['count']>=min_num_ratings]['pikiness'].quantile(.25)\n",
    "inflaters_th=df_yelp_users[df_yelp_users['count']>=min_num_ratings]['pikiness'].quantile(.75)"
   ]
  },
  {
   "cell_type": "code",
   "execution_count": 80,
   "metadata": {},
   "outputs": [
    {
     "data": {
      "text/plain": [
       "4.32"
      ]
     },
     "execution_count": 80,
     "metadata": {},
     "output_type": "execute_result"
    }
   ],
   "source": [
    "inflaters_th"
   ]
  },
  {
   "cell_type": "code",
   "execution_count": 81,
   "metadata": {},
   "outputs": [],
   "source": [
    "item_means_by_normal_raters=(2*df[['rating','item']][(df['pikiness']>deflaters_th) & (df['pikiness']<inflaters_th)].groupby('item').mean()['rating']).round()/2"
   ]
  },
  {
   "cell_type": "code",
   "execution_count": 82,
   "metadata": {},
   "outputs": [],
   "source": [
    "item_means_by_normal_raters=item_means_by_normal_raters.rename('score_by_normal_raters')"
   ]
  },
  {
   "cell_type": "code",
   "execution_count": 83,
   "metadata": {},
   "outputs": [
    {
     "data": {
      "text/plain": [
       "item\n",
       "--ZVrH2X2QXBFdCilbirsw    4.5\n",
       "-1MhPXk1FglglUAmuPLIGg    3.0\n",
       "-2ke_JDOpgTZWqirMFjZcw    2.5\n",
       "-3AooxIkg38UyUdlz5oXdw    3.5\n",
       "-49YlJ2GGzgmQ71FX9gGyg    4.0\n",
       "Name: score_by_normal_raters, dtype: float64"
      ]
     },
     "execution_count": 83,
     "metadata": {},
     "output_type": "execute_result"
    }
   ],
   "source": [
    "item_means_by_normal_raters.head()"
   ]
  },
  {
   "cell_type": "code",
   "execution_count": 84,
   "metadata": {},
   "outputs": [],
   "source": [
    "df = df.merge(item_means_by_normal_raters, \n",
    "               how = 'inner',\n",
    "               left_on = 'item',\n",
    "               right_on = 'item')"
   ]
  },
  {
   "cell_type": "code",
   "execution_count": 85,
   "metadata": {},
   "outputs": [
    {
     "data": {
      "text/html": [
       "<div>\n",
       "<style scoped>\n",
       "    .dataframe tbody tr th:only-of-type {\n",
       "        vertical-align: middle;\n",
       "    }\n",
       "\n",
       "    .dataframe tbody tr th {\n",
       "        vertical-align: top;\n",
       "    }\n",
       "\n",
       "    .dataframe thead th {\n",
       "        text-align: right;\n",
       "    }\n",
       "</style>\n",
       "<table border=\"1\" class=\"dataframe\">\n",
       "  <thead>\n",
       "    <tr style=\"text-align: right;\">\n",
       "      <th></th>\n",
       "      <th>user</th>\n",
       "      <th>item</th>\n",
       "      <th>rating</th>\n",
       "      <th>review</th>\n",
       "      <th>date</th>\n",
       "      <th>category</th>\n",
       "      <th>name_x</th>\n",
       "      <th>year</th>\n",
       "      <th>count</th>\n",
       "      <th>pikiness</th>\n",
       "      <th>log_count</th>\n",
       "      <th>name_y</th>\n",
       "      <th>item_rating_count</th>\n",
       "      <th>item_rating_avg</th>\n",
       "      <th>city</th>\n",
       "      <th>score_by_normal_raters</th>\n",
       "    </tr>\n",
       "  </thead>\n",
       "  <tbody>\n",
       "    <tr>\n",
       "      <th>0</th>\n",
       "      <td>mh_-eMZ6K5RLWhZyISBhwA</td>\n",
       "      <td>XQfwVwDr-v0ZS3_CbbE5Xw</td>\n",
       "      <td>3.0</td>\n",
       "      <td>I</td>\n",
       "      <td>2018-07-07 22:09:11</td>\n",
       "      <td>Restaurants, Breakfast &amp; Brunch, Food, Juice B...</td>\n",
       "      <td>Turning Point of North Wales</td>\n",
       "      <td>2018</td>\n",
       "      <td>33</td>\n",
       "      <td>4.06</td>\n",
       "      <td>1.5</td>\n",
       "      <td>Turning Point of North Wales</td>\n",
       "      <td>169</td>\n",
       "      <td>3.0</td>\n",
       "      <td>North Wales</td>\n",
       "      <td>3.0</td>\n",
       "    </tr>\n",
       "    <tr>\n",
       "      <th>1</th>\n",
       "      <td>Iaee7y6zdSB3B-kRCo4z1w</td>\n",
       "      <td>XQfwVwDr-v0ZS3_CbbE5Xw</td>\n",
       "      <td>2.0</td>\n",
       "      <td>T</td>\n",
       "      <td>2017-05-13 17:06:55</td>\n",
       "      <td>Restaurants, Breakfast &amp; Brunch, Food, Juice B...</td>\n",
       "      <td>Turning Point of North Wales</td>\n",
       "      <td>2017</td>\n",
       "      <td>9</td>\n",
       "      <td>2.89</td>\n",
       "      <td>1.0</td>\n",
       "      <td>Turning Point of North Wales</td>\n",
       "      <td>169</td>\n",
       "      <td>3.0</td>\n",
       "      <td>North Wales</td>\n",
       "      <td>3.0</td>\n",
       "    </tr>\n",
       "    <tr>\n",
       "      <th>2</th>\n",
       "      <td>ejFxLGqQcWNLdNByJlIhnQ</td>\n",
       "      <td>XQfwVwDr-v0ZS3_CbbE5Xw</td>\n",
       "      <td>4.0</td>\n",
       "      <td>T</td>\n",
       "      <td>2017-08-08 00:58:18</td>\n",
       "      <td>Restaurants, Breakfast &amp; Brunch, Food, Juice B...</td>\n",
       "      <td>Turning Point of North Wales</td>\n",
       "      <td>2017</td>\n",
       "      <td>156</td>\n",
       "      <td>3.73</td>\n",
       "      <td>2.2</td>\n",
       "      <td>Turning Point of North Wales</td>\n",
       "      <td>169</td>\n",
       "      <td>3.0</td>\n",
       "      <td>North Wales</td>\n",
       "      <td>3.0</td>\n",
       "    </tr>\n",
       "    <tr>\n",
       "      <th>3</th>\n",
       "      <td>f7xa0p_1V9lx53iIGN5Sug</td>\n",
       "      <td>XQfwVwDr-v0ZS3_CbbE5Xw</td>\n",
       "      <td>3.0</td>\n",
       "      <td>W</td>\n",
       "      <td>2017-11-19 02:20:23</td>\n",
       "      <td>Restaurants, Breakfast &amp; Brunch, Food, Juice B...</td>\n",
       "      <td>Turning Point of North Wales</td>\n",
       "      <td>2017</td>\n",
       "      <td>196</td>\n",
       "      <td>3.69</td>\n",
       "      <td>2.3</td>\n",
       "      <td>Turning Point of North Wales</td>\n",
       "      <td>169</td>\n",
       "      <td>3.0</td>\n",
       "      <td>North Wales</td>\n",
       "      <td>3.0</td>\n",
       "    </tr>\n",
       "    <tr>\n",
       "      <th>4</th>\n",
       "      <td>dCooFVCk8M1nVaQqcfTL3Q</td>\n",
       "      <td>XQfwVwDr-v0ZS3_CbbE5Xw</td>\n",
       "      <td>2.0</td>\n",
       "      <td>M</td>\n",
       "      <td>2017-09-09 17:49:47</td>\n",
       "      <td>Restaurants, Breakfast &amp; Brunch, Food, Juice B...</td>\n",
       "      <td>Turning Point of North Wales</td>\n",
       "      <td>2017</td>\n",
       "      <td>17</td>\n",
       "      <td>3.22</td>\n",
       "      <td>1.2</td>\n",
       "      <td>Turning Point of North Wales</td>\n",
       "      <td>169</td>\n",
       "      <td>3.0</td>\n",
       "      <td>North Wales</td>\n",
       "      <td>3.0</td>\n",
       "    </tr>\n",
       "  </tbody>\n",
       "</table>\n",
       "</div>"
      ],
      "text/plain": [
       "                     user                    item  rating review  \\\n",
       "0  mh_-eMZ6K5RLWhZyISBhwA  XQfwVwDr-v0ZS3_CbbE5Xw     3.0      I   \n",
       "1  Iaee7y6zdSB3B-kRCo4z1w  XQfwVwDr-v0ZS3_CbbE5Xw     2.0      T   \n",
       "2  ejFxLGqQcWNLdNByJlIhnQ  XQfwVwDr-v0ZS3_CbbE5Xw     4.0      T   \n",
       "3  f7xa0p_1V9lx53iIGN5Sug  XQfwVwDr-v0ZS3_CbbE5Xw     3.0      W   \n",
       "4  dCooFVCk8M1nVaQqcfTL3Q  XQfwVwDr-v0ZS3_CbbE5Xw     2.0      M   \n",
       "\n",
       "                  date                                           category  \\\n",
       "0  2018-07-07 22:09:11  Restaurants, Breakfast & Brunch, Food, Juice B...   \n",
       "1  2017-05-13 17:06:55  Restaurants, Breakfast & Brunch, Food, Juice B...   \n",
       "2  2017-08-08 00:58:18  Restaurants, Breakfast & Brunch, Food, Juice B...   \n",
       "3  2017-11-19 02:20:23  Restaurants, Breakfast & Brunch, Food, Juice B...   \n",
       "4  2017-09-09 17:49:47  Restaurants, Breakfast & Brunch, Food, Juice B...   \n",
       "\n",
       "                         name_x  year  count  pikiness  log_count  \\\n",
       "0  Turning Point of North Wales  2018     33      4.06        1.5   \n",
       "1  Turning Point of North Wales  2017      9      2.89        1.0   \n",
       "2  Turning Point of North Wales  2017    156      3.73        2.2   \n",
       "3  Turning Point of North Wales  2017    196      3.69        2.3   \n",
       "4  Turning Point of North Wales  2017     17      3.22        1.2   \n",
       "\n",
       "                         name_y  item_rating_count  item_rating_avg  \\\n",
       "0  Turning Point of North Wales                169              3.0   \n",
       "1  Turning Point of North Wales                169              3.0   \n",
       "2  Turning Point of North Wales                169              3.0   \n",
       "3  Turning Point of North Wales                169              3.0   \n",
       "4  Turning Point of North Wales                169              3.0   \n",
       "\n",
       "          city  score_by_normal_raters  \n",
       "0  North Wales                     3.0  \n",
       "1  North Wales                     3.0  \n",
       "2  North Wales                     3.0  \n",
       "3  North Wales                     3.0  \n",
       "4  North Wales                     3.0  "
      ]
     },
     "execution_count": 85,
     "metadata": {},
     "output_type": "execute_result"
    }
   ],
   "source": [
    "df.head()"
   ]
  },
  {
   "cell_type": "code",
   "execution_count": 86,
   "metadata": {},
   "outputs": [
    {
     "data": {
      "text/plain": [
       "Index(['user', 'item', 'rating', 'review', 'date', 'category', 'name_x',\n",
       "       'year', 'count', 'pikiness', 'log_count', 'name_y', 'item_rating_count',\n",
       "       'item_rating_avg', 'city', 'score_by_normal_raters'],\n",
       "      dtype='object')"
      ]
     },
     "execution_count": 86,
     "metadata": {},
     "output_type": "execute_result"
    }
   ],
   "source": [
    "df.columns"
   ]
  },
  {
   "cell_type": "code",
   "execution_count": 87,
   "metadata": {},
   "outputs": [
    {
     "data": {
      "text/plain": [
       "pikiness           3.798125\n",
       "item_rating_avg    3.770772\n",
       "dtype: float64"
      ]
     },
     "execution_count": 87,
     "metadata": {},
     "output_type": "execute_result"
    }
   ],
   "source": [
    "df[['pikiness','item_rating_avg']].mean()"
   ]
  },
  {
   "cell_type": "code",
   "execution_count": 88,
   "metadata": {},
   "outputs": [
    {
     "data": {
      "text/plain": [
       "pikiness           0.702208\n",
       "item_rating_avg    0.580252\n",
       "dtype: float64"
      ]
     },
     "execution_count": 88,
     "metadata": {},
     "output_type": "execute_result"
    }
   ],
   "source": [
    "df[['pikiness','item_rating_avg']].std()"
   ]
  },
  {
   "cell_type": "code",
   "execution_count": 89,
   "metadata": {},
   "outputs": [],
   "source": [
    "df['norm_pickiness']=(df['pikiness']-df['pikiness'].mean())/df['pikiness'].std()\n",
    "df['norm_item_rating_avg']=(df['item_rating_avg']-df['item_rating_avg'].mean())/df['item_rating_avg'].std()"
   ]
  },
  {
   "cell_type": "code",
   "execution_count": 90,
   "metadata": {},
   "outputs": [
    {
     "data": {
      "text/plain": [
       "array([[1.        , 0.18885197],\n",
       "       [0.18885197, 1.        ]])"
      ]
     },
     "execution_count": 90,
     "metadata": {},
     "output_type": "execute_result"
    }
   ],
   "source": [
    "np.corrcoef(df['norm_pickiness'],df['norm_item_rating_avg'])"
   ]
  },
  {
   "cell_type": "code",
   "execution_count": 91,
   "metadata": {},
   "outputs": [
    {
     "name": "stdout",
     "output_type": "stream",
     "text": [
      "const                   3.826906\n",
      "norm_pickiness          0.571292\n",
      "norm_item_rating_avg    0.413374\n",
      "dtype: float64\n"
     ]
    },
    {
     "data": {
      "text/html": [
       "<table class=\"simpletable\">\n",
       "<caption>OLS Regression Results</caption>\n",
       "<tr>\n",
       "  <th>Dep. Variable:</th>         <td>rating</td>      <th>  R-squared:         </th> <td>   0.341</td> \n",
       "</tr>\n",
       "<tr>\n",
       "  <th>Model:</th>                   <td>OLS</td>       <th>  Adj. R-squared:    </th> <td>   0.341</td> \n",
       "</tr>\n",
       "<tr>\n",
       "  <th>Method:</th>             <td>Least Squares</td>  <th>  F-statistic:       </th> <td>   9142.</td> \n",
       "</tr>\n",
       "<tr>\n",
       "  <th>Date:</th>             <td>Thu, 21 Dec 2023</td> <th>  Prob (F-statistic):</th>  <td>  0.00</td>  \n",
       "</tr>\n",
       "<tr>\n",
       "  <th>Time:</th>                 <td>09:51:29</td>     <th>  Log-Likelihood:    </th> <td> -52207.</td> \n",
       "</tr>\n",
       "<tr>\n",
       "  <th>No. Observations:</th>      <td> 35264</td>      <th>  AIC:               </th> <td>1.044e+05</td>\n",
       "</tr>\n",
       "<tr>\n",
       "  <th>Df Residuals:</th>          <td> 35261</td>      <th>  BIC:               </th> <td>1.044e+05</td>\n",
       "</tr>\n",
       "<tr>\n",
       "  <th>Df Model:</th>              <td>     2</td>      <th>                     </th>     <td> </td>    \n",
       "</tr>\n",
       "<tr>\n",
       "  <th>Covariance Type:</th>      <td>nonrobust</td>    <th>                     </th>     <td> </td>    \n",
       "</tr>\n",
       "</table>\n",
       "<table class=\"simpletable\">\n",
       "<tr>\n",
       "            <td></td>              <th>coef</th>     <th>std err</th>      <th>t</th>      <th>P>|t|</th>  <th>[0.025</th>    <th>0.975]</th>  \n",
       "</tr>\n",
       "<tr>\n",
       "  <th>const</th>                <td>    3.8269</td> <td>    0.006</td> <td>  675.733</td> <td> 0.000</td> <td>    3.816</td> <td>    3.838</td>\n",
       "</tr>\n",
       "<tr>\n",
       "  <th>norm_pickiness</th>       <td>    0.5713</td> <td>    0.006</td> <td>   99.059</td> <td> 0.000</td> <td>    0.560</td> <td>    0.583</td>\n",
       "</tr>\n",
       "<tr>\n",
       "  <th>norm_item_rating_avg</th> <td>    0.4134</td> <td>    0.006</td> <td>   71.677</td> <td> 0.000</td> <td>    0.402</td> <td>    0.425</td>\n",
       "</tr>\n",
       "</table>\n",
       "<table class=\"simpletable\">\n",
       "<tr>\n",
       "  <th>Omnibus:</th>       <td>1767.217</td> <th>  Durbin-Watson:     </th> <td>   1.974</td>\n",
       "</tr>\n",
       "<tr>\n",
       "  <th>Prob(Omnibus):</th>  <td> 0.000</td>  <th>  Jarque-Bera (JB):  </th> <td>2047.703</td>\n",
       "</tr>\n",
       "<tr>\n",
       "  <th>Skew:</th>           <td>-0.570</td>  <th>  Prob(JB):          </th> <td>    0.00</td>\n",
       "</tr>\n",
       "<tr>\n",
       "  <th>Kurtosis:</th>       <td> 3.304</td>  <th>  Cond. No.          </th> <td>    1.21</td>\n",
       "</tr>\n",
       "</table><br/><br/>Notes:<br/>[1] Standard Errors assume that the covariance matrix of the errors is correctly specified."
      ],
      "text/latex": [
       "\\begin{center}\n",
       "\\begin{tabular}{lclc}\n",
       "\\toprule\n",
       "\\textbf{Dep. Variable:}          &      rating      & \\textbf{  R-squared:         } &     0.341   \\\\\n",
       "\\textbf{Model:}                  &       OLS        & \\textbf{  Adj. R-squared:    } &     0.341   \\\\\n",
       "\\textbf{Method:}                 &  Least Squares   & \\textbf{  F-statistic:       } &     9142.   \\\\\n",
       "\\textbf{Date:}                   & Thu, 21 Dec 2023 & \\textbf{  Prob (F-statistic):} &     0.00    \\\\\n",
       "\\textbf{Time:}                   &     09:51:29     & \\textbf{  Log-Likelihood:    } &   -52207.   \\\\\n",
       "\\textbf{No. Observations:}       &       35264      & \\textbf{  AIC:               } & 1.044e+05   \\\\\n",
       "\\textbf{Df Residuals:}           &       35261      & \\textbf{  BIC:               } & 1.044e+05   \\\\\n",
       "\\textbf{Df Model:}               &           2      & \\textbf{                     } &             \\\\\n",
       "\\textbf{Covariance Type:}        &    nonrobust     & \\textbf{                     } &             \\\\\n",
       "\\bottomrule\n",
       "\\end{tabular}\n",
       "\\begin{tabular}{lcccccc}\n",
       "                                 & \\textbf{coef} & \\textbf{std err} & \\textbf{t} & \\textbf{P$> |$t$|$} & \\textbf{[0.025} & \\textbf{0.975]}  \\\\\n",
       "\\midrule\n",
       "\\textbf{const}                   &       3.8269  &        0.006     &   675.733  &         0.000        &        3.816    &        3.838     \\\\\n",
       "\\textbf{norm\\_pickiness}         &       0.5713  &        0.006     &    99.059  &         0.000        &        0.560    &        0.583     \\\\\n",
       "\\textbf{norm\\_item\\_rating\\_avg} &       0.4134  &        0.006     &    71.677  &         0.000        &        0.402    &        0.425     \\\\\n",
       "\\bottomrule\n",
       "\\end{tabular}\n",
       "\\begin{tabular}{lclc}\n",
       "\\textbf{Omnibus:}       & 1767.217 & \\textbf{  Durbin-Watson:     } &    1.974  \\\\\n",
       "\\textbf{Prob(Omnibus):} &   0.000  & \\textbf{  Jarque-Bera (JB):  } & 2047.703  \\\\\n",
       "\\textbf{Skew:}          &  -0.570  & \\textbf{  Prob(JB):          } &     0.00  \\\\\n",
       "\\textbf{Kurtosis:}      &   3.304  & \\textbf{  Cond. No.          } &     1.21  \\\\\n",
       "\\bottomrule\n",
       "\\end{tabular}\n",
       "%\\caption{OLS Regression Results}\n",
       "\\end{center}\n",
       "\n",
       "Notes: \\newline\n",
       " [1] Standard Errors assume that the covariance matrix of the errors is correctly specified."
      ],
      "text/plain": [
       "<class 'statsmodels.iolib.summary.Summary'>\n",
       "\"\"\"\n",
       "                            OLS Regression Results                            \n",
       "==============================================================================\n",
       "Dep. Variable:                 rating   R-squared:                       0.341\n",
       "Model:                            OLS   Adj. R-squared:                  0.341\n",
       "Method:                 Least Squares   F-statistic:                     9142.\n",
       "Date:                Thu, 21 Dec 2023   Prob (F-statistic):               0.00\n",
       "Time:                        09:51:29   Log-Likelihood:                -52207.\n",
       "No. Observations:               35264   AIC:                         1.044e+05\n",
       "Df Residuals:                   35261   BIC:                         1.044e+05\n",
       "Df Model:                           2                                         \n",
       "Covariance Type:            nonrobust                                         \n",
       "========================================================================================\n",
       "                           coef    std err          t      P>|t|      [0.025      0.975]\n",
       "----------------------------------------------------------------------------------------\n",
       "const                    3.8269      0.006    675.733      0.000       3.816       3.838\n",
       "norm_pickiness           0.5713      0.006     99.059      0.000       0.560       0.583\n",
       "norm_item_rating_avg     0.4134      0.006     71.677      0.000       0.402       0.425\n",
       "==============================================================================\n",
       "Omnibus:                     1767.217   Durbin-Watson:                   1.974\n",
       "Prob(Omnibus):                  0.000   Jarque-Bera (JB):             2047.703\n",
       "Skew:                          -0.570   Prob(JB):                         0.00\n",
       "Kurtosis:                       3.304   Cond. No.                         1.21\n",
       "==============================================================================\n",
       "\n",
       "Notes:\n",
       "[1] Standard Errors assume that the covariance matrix of the errors is correctly specified.\n",
       "\"\"\""
      ]
     },
     "execution_count": 91,
     "metadata": {},
     "output_type": "execute_result"
    }
   ],
   "source": [
    "# regress ratings on user pickiness and restaurant Yelp rating\n",
    "y=df['rating']\n",
    "x=df[['norm_pickiness','norm_item_rating_avg']]\n",
    "\n",
    "\n",
    "#x = np.array(x.tolist())\n",
    "#y = np.array(y.tolist())\n",
    "\n",
    "# adding the constant term\n",
    "xc = sm.add_constant(x)\n",
    "\n",
    "# performing the regression\n",
    "# and fitting the model\n",
    "result = sm.OLS(y, xc).fit()\n",
    "\n",
    "# printing the summary table\n",
    "\n",
    "print(result.params)\n",
    "result.summary()"
   ]
  },
  {
   "cell_type": "markdown",
   "metadata": {},
   "source": [
    "# Appendix:\n",
    "- Regressions with histograms\n",
    "\n",
    "200 is not \"the ground truth\". why 200?\n",
    "Even for restaurants rated more than 200 times, \n",
    "the average user pickiness and restaurant quality are highly correlated.\n",
    "\n",
    "If the ground truth were absolute, would it depend so strongly\n",
    "on the pickinesss of its users?"
   ]
  },
  {
   "cell_type": "code",
   "execution_count": 92,
   "metadata": {},
   "outputs": [
    {
     "name": "stdout",
     "output_type": "stream",
     "text": [
      "3.41\n",
      "4.32\n"
     ]
    },
    {
     "data": {
      "text/html": [
       "<div>\n",
       "<style scoped>\n",
       "    .dataframe tbody tr th:only-of-type {\n",
       "        vertical-align: middle;\n",
       "    }\n",
       "\n",
       "    .dataframe tbody tr th {\n",
       "        vertical-align: top;\n",
       "    }\n",
       "\n",
       "    .dataframe thead th {\n",
       "        text-align: right;\n",
       "    }\n",
       "</style>\n",
       "<table border=\"1\" class=\"dataframe\">\n",
       "  <thead>\n",
       "    <tr style=\"text-align: right;\">\n",
       "      <th></th>\n",
       "      <th>user</th>\n",
       "      <th>item</th>\n",
       "      <th>rating</th>\n",
       "      <th>review</th>\n",
       "      <th>date</th>\n",
       "      <th>category</th>\n",
       "      <th>name_x</th>\n",
       "      <th>year</th>\n",
       "      <th>count</th>\n",
       "      <th>pikiness</th>\n",
       "      <th>log_count</th>\n",
       "      <th>name_y</th>\n",
       "      <th>item_rating_count</th>\n",
       "      <th>item_rating_avg</th>\n",
       "      <th>city</th>\n",
       "      <th>score_by_normal_raters</th>\n",
       "      <th>norm_pickiness</th>\n",
       "      <th>norm_item_rating_avg</th>\n",
       "      <th>inflator</th>\n",
       "      <th>deflator</th>\n",
       "    </tr>\n",
       "  </thead>\n",
       "  <tbody>\n",
       "    <tr>\n",
       "      <th>0</th>\n",
       "      <td>mh_-eMZ6K5RLWhZyISBhwA</td>\n",
       "      <td>XQfwVwDr-v0ZS3_CbbE5Xw</td>\n",
       "      <td>3.0</td>\n",
       "      <td>I</td>\n",
       "      <td>2018-07-07 22:09:11</td>\n",
       "      <td>Restaurants, Breakfast &amp; Brunch, Food, Juice B...</td>\n",
       "      <td>Turning Point of North Wales</td>\n",
       "      <td>2018</td>\n",
       "      <td>33</td>\n",
       "      <td>4.06</td>\n",
       "      <td>1.5</td>\n",
       "      <td>Turning Point of North Wales</td>\n",
       "      <td>169</td>\n",
       "      <td>3.0</td>\n",
       "      <td>North Wales</td>\n",
       "      <td>3.0</td>\n",
       "      <td>0.372931</td>\n",
       "      <td>-1.32834</td>\n",
       "      <td>0</td>\n",
       "      <td>0</td>\n",
       "    </tr>\n",
       "    <tr>\n",
       "      <th>1</th>\n",
       "      <td>Iaee7y6zdSB3B-kRCo4z1w</td>\n",
       "      <td>XQfwVwDr-v0ZS3_CbbE5Xw</td>\n",
       "      <td>2.0</td>\n",
       "      <td>T</td>\n",
       "      <td>2017-05-13 17:06:55</td>\n",
       "      <td>Restaurants, Breakfast &amp; Brunch, Food, Juice B...</td>\n",
       "      <td>Turning Point of North Wales</td>\n",
       "      <td>2017</td>\n",
       "      <td>9</td>\n",
       "      <td>2.89</td>\n",
       "      <td>1.0</td>\n",
       "      <td>Turning Point of North Wales</td>\n",
       "      <td>169</td>\n",
       "      <td>3.0</td>\n",
       "      <td>North Wales</td>\n",
       "      <td>3.0</td>\n",
       "      <td>-1.293242</td>\n",
       "      <td>-1.32834</td>\n",
       "      <td>0</td>\n",
       "      <td>1</td>\n",
       "    </tr>\n",
       "    <tr>\n",
       "      <th>2</th>\n",
       "      <td>ejFxLGqQcWNLdNByJlIhnQ</td>\n",
       "      <td>XQfwVwDr-v0ZS3_CbbE5Xw</td>\n",
       "      <td>4.0</td>\n",
       "      <td>T</td>\n",
       "      <td>2017-08-08 00:58:18</td>\n",
       "      <td>Restaurants, Breakfast &amp; Brunch, Food, Juice B...</td>\n",
       "      <td>Turning Point of North Wales</td>\n",
       "      <td>2017</td>\n",
       "      <td>156</td>\n",
       "      <td>3.73</td>\n",
       "      <td>2.2</td>\n",
       "      <td>Turning Point of North Wales</td>\n",
       "      <td>169</td>\n",
       "      <td>3.0</td>\n",
       "      <td>North Wales</td>\n",
       "      <td>3.0</td>\n",
       "      <td>-0.097015</td>\n",
       "      <td>-1.32834</td>\n",
       "      <td>0</td>\n",
       "      <td>0</td>\n",
       "    </tr>\n",
       "    <tr>\n",
       "      <th>3</th>\n",
       "      <td>f7xa0p_1V9lx53iIGN5Sug</td>\n",
       "      <td>XQfwVwDr-v0ZS3_CbbE5Xw</td>\n",
       "      <td>3.0</td>\n",
       "      <td>W</td>\n",
       "      <td>2017-11-19 02:20:23</td>\n",
       "      <td>Restaurants, Breakfast &amp; Brunch, Food, Juice B...</td>\n",
       "      <td>Turning Point of North Wales</td>\n",
       "      <td>2017</td>\n",
       "      <td>196</td>\n",
       "      <td>3.69</td>\n",
       "      <td>2.3</td>\n",
       "      <td>Turning Point of North Wales</td>\n",
       "      <td>169</td>\n",
       "      <td>3.0</td>\n",
       "      <td>North Wales</td>\n",
       "      <td>3.0</td>\n",
       "      <td>-0.153979</td>\n",
       "      <td>-1.32834</td>\n",
       "      <td>0</td>\n",
       "      <td>0</td>\n",
       "    </tr>\n",
       "    <tr>\n",
       "      <th>4</th>\n",
       "      <td>dCooFVCk8M1nVaQqcfTL3Q</td>\n",
       "      <td>XQfwVwDr-v0ZS3_CbbE5Xw</td>\n",
       "      <td>2.0</td>\n",
       "      <td>M</td>\n",
       "      <td>2017-09-09 17:49:47</td>\n",
       "      <td>Restaurants, Breakfast &amp; Brunch, Food, Juice B...</td>\n",
       "      <td>Turning Point of North Wales</td>\n",
       "      <td>2017</td>\n",
       "      <td>17</td>\n",
       "      <td>3.22</td>\n",
       "      <td>1.2</td>\n",
       "      <td>Turning Point of North Wales</td>\n",
       "      <td>169</td>\n",
       "      <td>3.0</td>\n",
       "      <td>North Wales</td>\n",
       "      <td>3.0</td>\n",
       "      <td>-0.823296</td>\n",
       "      <td>-1.32834</td>\n",
       "      <td>0</td>\n",
       "      <td>1</td>\n",
       "    </tr>\n",
       "  </tbody>\n",
       "</table>\n",
       "</div>"
      ],
      "text/plain": [
       "                     user                    item  rating review  \\\n",
       "0  mh_-eMZ6K5RLWhZyISBhwA  XQfwVwDr-v0ZS3_CbbE5Xw     3.0      I   \n",
       "1  Iaee7y6zdSB3B-kRCo4z1w  XQfwVwDr-v0ZS3_CbbE5Xw     2.0      T   \n",
       "2  ejFxLGqQcWNLdNByJlIhnQ  XQfwVwDr-v0ZS3_CbbE5Xw     4.0      T   \n",
       "3  f7xa0p_1V9lx53iIGN5Sug  XQfwVwDr-v0ZS3_CbbE5Xw     3.0      W   \n",
       "4  dCooFVCk8M1nVaQqcfTL3Q  XQfwVwDr-v0ZS3_CbbE5Xw     2.0      M   \n",
       "\n",
       "                  date                                           category  \\\n",
       "0  2018-07-07 22:09:11  Restaurants, Breakfast & Brunch, Food, Juice B...   \n",
       "1  2017-05-13 17:06:55  Restaurants, Breakfast & Brunch, Food, Juice B...   \n",
       "2  2017-08-08 00:58:18  Restaurants, Breakfast & Brunch, Food, Juice B...   \n",
       "3  2017-11-19 02:20:23  Restaurants, Breakfast & Brunch, Food, Juice B...   \n",
       "4  2017-09-09 17:49:47  Restaurants, Breakfast & Brunch, Food, Juice B...   \n",
       "\n",
       "                         name_x  year  count  pikiness  log_count  \\\n",
       "0  Turning Point of North Wales  2018     33      4.06        1.5   \n",
       "1  Turning Point of North Wales  2017      9      2.89        1.0   \n",
       "2  Turning Point of North Wales  2017    156      3.73        2.2   \n",
       "3  Turning Point of North Wales  2017    196      3.69        2.3   \n",
       "4  Turning Point of North Wales  2017     17      3.22        1.2   \n",
       "\n",
       "                         name_y  item_rating_count  item_rating_avg  \\\n",
       "0  Turning Point of North Wales                169              3.0   \n",
       "1  Turning Point of North Wales                169              3.0   \n",
       "2  Turning Point of North Wales                169              3.0   \n",
       "3  Turning Point of North Wales                169              3.0   \n",
       "4  Turning Point of North Wales                169              3.0   \n",
       "\n",
       "          city  score_by_normal_raters  norm_pickiness  norm_item_rating_avg  \\\n",
       "0  North Wales                     3.0        0.372931              -1.32834   \n",
       "1  North Wales                     3.0       -1.293242              -1.32834   \n",
       "2  North Wales                     3.0       -0.097015              -1.32834   \n",
       "3  North Wales                     3.0       -0.153979              -1.32834   \n",
       "4  North Wales                     3.0       -0.823296              -1.32834   \n",
       "\n",
       "   inflator  deflator  \n",
       "0         0         0  \n",
       "1         0         1  \n",
       "2         0         0  \n",
       "3         0         0  \n",
       "4         0         1  "
      ]
     },
     "execution_count": 92,
     "metadata": {},
     "output_type": "execute_result"
    }
   ],
   "source": [
    "min_num_ratings=4\n",
    "deflaters=df_yelp_users[df_yelp_users['count']>=min_num_ratings]['pikiness'].quantile(.25)\n",
    "inflaters=df_yelp_users[df_yelp_users['count']>=min_num_ratings]['pikiness'].quantile(.75)\n",
    "print(deflaters)\n",
    "print(inflaters)\n",
    "df['inflator']=(df['pikiness']>inflaters)*1\n",
    "df['deflator']=(df['pikiness']<deflaters)*1\n",
    "df.head()"
   ]
  },
  {
   "cell_type": "markdown",
   "metadata": {},
   "source": [
    "# Reviewer question: aren't inflaters just picking better restaurants?"
   ]
  },
  {
   "cell_type": "code",
   "execution_count": 93,
   "metadata": {},
   "outputs": [
    {
     "data": {
      "text/plain": [
       "2.9399588583183336"
      ]
     },
     "execution_count": 93,
     "metadata": {},
     "output_type": "execute_result"
    }
   ],
   "source": [
    "df[df['deflator']==1]['rating'].mean()"
   ]
  },
  {
   "cell_type": "code",
   "execution_count": 94,
   "metadata": {},
   "outputs": [
    {
     "data": {
      "text/plain": [
       "3.8825145997938852"
      ]
     },
     "execution_count": 94,
     "metadata": {},
     "output_type": "execute_result"
    }
   ],
   "source": [
    "df[(df['inflator']==0) & (df['deflator']==0) ]['rating'].mean()"
   ]
  },
  {
   "cell_type": "code",
   "execution_count": 95,
   "metadata": {},
   "outputs": [
    {
     "data": {
      "text/plain": [
       "4.637923758615839"
      ]
     },
     "execution_count": 95,
     "metadata": {},
     "output_type": "execute_result"
    }
   ],
   "source": [
    "df[df['inflator']==1]['rating'].mean()"
   ]
  },
  {
   "cell_type": "code",
   "execution_count": 96,
   "metadata": {},
   "outputs": [
    {
     "data": {
      "text/plain": [
       "3.6290177423502183"
      ]
     },
     "execution_count": 96,
     "metadata": {},
     "output_type": "execute_result"
    }
   ],
   "source": [
    "df[df['deflator']==1]['item_rating_avg'].mean()"
   ]
  },
  {
   "cell_type": "code",
   "execution_count": 97,
   "metadata": {},
   "outputs": [
    {
     "data": {
      "text/plain": [
       "3.7728566521077687"
      ]
     },
     "execution_count": 97,
     "metadata": {},
     "output_type": "execute_result"
    }
   ],
   "source": [
    "df[(df['inflator']==0) & (df['deflator']==0) ]['item_rating_avg'].mean()"
   ]
  },
  {
   "cell_type": "code",
   "execution_count": 98,
   "metadata": {},
   "outputs": [
    {
     "data": {
      "text/plain": [
       "3.9198902799268533"
      ]
     },
     "execution_count": 98,
     "metadata": {},
     "output_type": "execute_result"
    }
   ],
   "source": [
    "df[df['inflator']==1]['item_rating_avg'].mean()"
   ]
  },
  {
   "cell_type": "markdown",
   "metadata": {},
   "source": [
    "# our response: this effect is modest\n"
   ]
  },
  {
   "cell_type": "code",
   "execution_count": 99,
   "metadata": {},
   "outputs": [
    {
     "data": {
      "text/plain": [
       "3.7759064026742095"
      ]
     },
     "execution_count": 99,
     "metadata": {},
     "output_type": "execute_result"
    }
   ],
   "source": [
    "df[df['deflator']==1]['score_by_normal_raters'].mean()"
   ]
  },
  {
   "cell_type": "code",
   "execution_count": 100,
   "metadata": {},
   "outputs": [
    {
     "data": {
      "text/plain": [
       "3.887642930755263"
      ]
     },
     "execution_count": 100,
     "metadata": {},
     "output_type": "execute_result"
    }
   ],
   "source": [
    "df[(df['inflator']==0) & (df['deflator']==0) ]['score_by_normal_raters'].mean()"
   ]
  },
  {
   "cell_type": "code",
   "execution_count": 101,
   "metadata": {},
   "outputs": [
    {
     "data": {
      "text/plain": [
       "4.014770009846673"
      ]
     },
     "execution_count": 101,
     "metadata": {},
     "output_type": "execute_result"
    }
   ],
   "source": [
    "df[df['inflator']==1]['score_by_normal_raters'].mean()"
   ]
  },
  {
   "cell_type": "code",
   "execution_count": 102,
   "metadata": {},
   "outputs": [
    {
     "data": {
      "text/html": [
       "<div>\n",
       "<style scoped>\n",
       "    .dataframe tbody tr th:only-of-type {\n",
       "        vertical-align: middle;\n",
       "    }\n",
       "\n",
       "    .dataframe tbody tr th {\n",
       "        vertical-align: top;\n",
       "    }\n",
       "\n",
       "    .dataframe thead th {\n",
       "        text-align: right;\n",
       "    }\n",
       "</style>\n",
       "<table border=\"1\" class=\"dataframe\">\n",
       "  <thead>\n",
       "    <tr style=\"text-align: right;\">\n",
       "      <th></th>\n",
       "      <th>user</th>\n",
       "      <th>item</th>\n",
       "      <th>rating</th>\n",
       "      <th>review</th>\n",
       "      <th>date</th>\n",
       "      <th>category</th>\n",
       "      <th>name_x</th>\n",
       "      <th>year</th>\n",
       "      <th>count</th>\n",
       "      <th>pikiness</th>\n",
       "      <th>log_count</th>\n",
       "      <th>name_y</th>\n",
       "      <th>item_rating_count</th>\n",
       "      <th>item_rating_avg</th>\n",
       "      <th>city</th>\n",
       "      <th>score_by_normal_raters</th>\n",
       "      <th>norm_pickiness</th>\n",
       "      <th>norm_item_rating_avg</th>\n",
       "      <th>inflator</th>\n",
       "      <th>deflator</th>\n",
       "    </tr>\n",
       "  </thead>\n",
       "  <tbody>\n",
       "    <tr>\n",
       "      <th>0</th>\n",
       "      <td>mh_-eMZ6K5RLWhZyISBhwA</td>\n",
       "      <td>XQfwVwDr-v0ZS3_CbbE5Xw</td>\n",
       "      <td>3.0</td>\n",
       "      <td>I</td>\n",
       "      <td>2018-07-07 22:09:11</td>\n",
       "      <td>Restaurants, Breakfast &amp; Brunch, Food, Juice B...</td>\n",
       "      <td>Turning Point of North Wales</td>\n",
       "      <td>2018</td>\n",
       "      <td>33</td>\n",
       "      <td>4.06</td>\n",
       "      <td>1.5</td>\n",
       "      <td>Turning Point of North Wales</td>\n",
       "      <td>169</td>\n",
       "      <td>3.0</td>\n",
       "      <td>North Wales</td>\n",
       "      <td>3.0</td>\n",
       "      <td>0.372931</td>\n",
       "      <td>-1.32834</td>\n",
       "      <td>0</td>\n",
       "      <td>0</td>\n",
       "    </tr>\n",
       "    <tr>\n",
       "      <th>1</th>\n",
       "      <td>Iaee7y6zdSB3B-kRCo4z1w</td>\n",
       "      <td>XQfwVwDr-v0ZS3_CbbE5Xw</td>\n",
       "      <td>2.0</td>\n",
       "      <td>T</td>\n",
       "      <td>2017-05-13 17:06:55</td>\n",
       "      <td>Restaurants, Breakfast &amp; Brunch, Food, Juice B...</td>\n",
       "      <td>Turning Point of North Wales</td>\n",
       "      <td>2017</td>\n",
       "      <td>9</td>\n",
       "      <td>2.89</td>\n",
       "      <td>1.0</td>\n",
       "      <td>Turning Point of North Wales</td>\n",
       "      <td>169</td>\n",
       "      <td>3.0</td>\n",
       "      <td>North Wales</td>\n",
       "      <td>3.0</td>\n",
       "      <td>-1.293242</td>\n",
       "      <td>-1.32834</td>\n",
       "      <td>0</td>\n",
       "      <td>1</td>\n",
       "    </tr>\n",
       "    <tr>\n",
       "      <th>2</th>\n",
       "      <td>ejFxLGqQcWNLdNByJlIhnQ</td>\n",
       "      <td>XQfwVwDr-v0ZS3_CbbE5Xw</td>\n",
       "      <td>4.0</td>\n",
       "      <td>T</td>\n",
       "      <td>2017-08-08 00:58:18</td>\n",
       "      <td>Restaurants, Breakfast &amp; Brunch, Food, Juice B...</td>\n",
       "      <td>Turning Point of North Wales</td>\n",
       "      <td>2017</td>\n",
       "      <td>156</td>\n",
       "      <td>3.73</td>\n",
       "      <td>2.2</td>\n",
       "      <td>Turning Point of North Wales</td>\n",
       "      <td>169</td>\n",
       "      <td>3.0</td>\n",
       "      <td>North Wales</td>\n",
       "      <td>3.0</td>\n",
       "      <td>-0.097015</td>\n",
       "      <td>-1.32834</td>\n",
       "      <td>0</td>\n",
       "      <td>0</td>\n",
       "    </tr>\n",
       "    <tr>\n",
       "      <th>3</th>\n",
       "      <td>f7xa0p_1V9lx53iIGN5Sug</td>\n",
       "      <td>XQfwVwDr-v0ZS3_CbbE5Xw</td>\n",
       "      <td>3.0</td>\n",
       "      <td>W</td>\n",
       "      <td>2017-11-19 02:20:23</td>\n",
       "      <td>Restaurants, Breakfast &amp; Brunch, Food, Juice B...</td>\n",
       "      <td>Turning Point of North Wales</td>\n",
       "      <td>2017</td>\n",
       "      <td>196</td>\n",
       "      <td>3.69</td>\n",
       "      <td>2.3</td>\n",
       "      <td>Turning Point of North Wales</td>\n",
       "      <td>169</td>\n",
       "      <td>3.0</td>\n",
       "      <td>North Wales</td>\n",
       "      <td>3.0</td>\n",
       "      <td>-0.153979</td>\n",
       "      <td>-1.32834</td>\n",
       "      <td>0</td>\n",
       "      <td>0</td>\n",
       "    </tr>\n",
       "    <tr>\n",
       "      <th>4</th>\n",
       "      <td>dCooFVCk8M1nVaQqcfTL3Q</td>\n",
       "      <td>XQfwVwDr-v0ZS3_CbbE5Xw</td>\n",
       "      <td>2.0</td>\n",
       "      <td>M</td>\n",
       "      <td>2017-09-09 17:49:47</td>\n",
       "      <td>Restaurants, Breakfast &amp; Brunch, Food, Juice B...</td>\n",
       "      <td>Turning Point of North Wales</td>\n",
       "      <td>2017</td>\n",
       "      <td>17</td>\n",
       "      <td>3.22</td>\n",
       "      <td>1.2</td>\n",
       "      <td>Turning Point of North Wales</td>\n",
       "      <td>169</td>\n",
       "      <td>3.0</td>\n",
       "      <td>North Wales</td>\n",
       "      <td>3.0</td>\n",
       "      <td>-0.823296</td>\n",
       "      <td>-1.32834</td>\n",
       "      <td>0</td>\n",
       "      <td>1</td>\n",
       "    </tr>\n",
       "  </tbody>\n",
       "</table>\n",
       "</div>"
      ],
      "text/plain": [
       "                     user                    item  rating review  \\\n",
       "0  mh_-eMZ6K5RLWhZyISBhwA  XQfwVwDr-v0ZS3_CbbE5Xw     3.0      I   \n",
       "1  Iaee7y6zdSB3B-kRCo4z1w  XQfwVwDr-v0ZS3_CbbE5Xw     2.0      T   \n",
       "2  ejFxLGqQcWNLdNByJlIhnQ  XQfwVwDr-v0ZS3_CbbE5Xw     4.0      T   \n",
       "3  f7xa0p_1V9lx53iIGN5Sug  XQfwVwDr-v0ZS3_CbbE5Xw     3.0      W   \n",
       "4  dCooFVCk8M1nVaQqcfTL3Q  XQfwVwDr-v0ZS3_CbbE5Xw     2.0      M   \n",
       "\n",
       "                  date                                           category  \\\n",
       "0  2018-07-07 22:09:11  Restaurants, Breakfast & Brunch, Food, Juice B...   \n",
       "1  2017-05-13 17:06:55  Restaurants, Breakfast & Brunch, Food, Juice B...   \n",
       "2  2017-08-08 00:58:18  Restaurants, Breakfast & Brunch, Food, Juice B...   \n",
       "3  2017-11-19 02:20:23  Restaurants, Breakfast & Brunch, Food, Juice B...   \n",
       "4  2017-09-09 17:49:47  Restaurants, Breakfast & Brunch, Food, Juice B...   \n",
       "\n",
       "                         name_x  year  count  pikiness  log_count  \\\n",
       "0  Turning Point of North Wales  2018     33      4.06        1.5   \n",
       "1  Turning Point of North Wales  2017      9      2.89        1.0   \n",
       "2  Turning Point of North Wales  2017    156      3.73        2.2   \n",
       "3  Turning Point of North Wales  2017    196      3.69        2.3   \n",
       "4  Turning Point of North Wales  2017     17      3.22        1.2   \n",
       "\n",
       "                         name_y  item_rating_count  item_rating_avg  \\\n",
       "0  Turning Point of North Wales                169              3.0   \n",
       "1  Turning Point of North Wales                169              3.0   \n",
       "2  Turning Point of North Wales                169              3.0   \n",
       "3  Turning Point of North Wales                169              3.0   \n",
       "4  Turning Point of North Wales                169              3.0   \n",
       "\n",
       "          city  score_by_normal_raters  norm_pickiness  norm_item_rating_avg  \\\n",
       "0  North Wales                     3.0        0.372931              -1.32834   \n",
       "1  North Wales                     3.0       -1.293242              -1.32834   \n",
       "2  North Wales                     3.0       -0.097015              -1.32834   \n",
       "3  North Wales                     3.0       -0.153979              -1.32834   \n",
       "4  North Wales                     3.0       -0.823296              -1.32834   \n",
       "\n",
       "   inflator  deflator  \n",
       "0         0         0  \n",
       "1         0         1  \n",
       "2         0         0  \n",
       "3         0         0  \n",
       "4         0         1  "
      ]
     },
     "execution_count": 102,
     "metadata": {},
     "output_type": "execute_result"
    }
   ],
   "source": [
    "df.head()"
   ]
  },
  {
   "cell_type": "code",
   "execution_count": 103,
   "metadata": {},
   "outputs": [],
   "source": [
    "# group by item"
   ]
  },
  {
   "cell_type": "code",
   "execution_count": 104,
   "metadata": {},
   "outputs": [],
   "source": [
    "min_cnt=10\n",
    "item_means=df[['item','rating','pikiness','item_rating_avg','score_by_normal_raters']].groupby('item').mean()\n",
    "item_counts=df.groupby('item').count()['rating']\n",
    "item_defl_counts=df.groupby('item').sum()['deflator']\n",
    "item_infl_counts=df.groupby('item').sum()['inflator']\n",
    "items_df = pd.DataFrame(columns = ['Average restaurant rating','Average rater score','Yelp score', 'count'])\n",
    "items_df['Average restaurant rating'] = item_means['rating']\n",
    "items_df['Average rater score'] = item_means['pikiness']\n",
    "items_df['Yelp score'] = item_means['item_rating_avg']\n",
    "items_df['Yelp score normal'] = item_means['score_by_normal_raters']\n",
    "items_df['count'] = item_counts\n",
    "items_df['deflator count']=item_defl_counts\n",
    "items_df['inflator count']=item_infl_counts\n",
    "# filter item ratings in a certain range of cnt and pct\n",
    "items_df_10=items_df[items_df['count']>=10]\n",
    "items_df_100=items_df[items_df['count']>=100]\n",
    "items_df_200=items_df[items_df['count']>=200]\n",
    "items_df_400=items_df[items_df['count']>=400]\n",
    "items_df_10_199=items_df[(items_df['count']>=10) & (items_df['count']<=199)]\n",
    "items_df_200_2000=items_df[(items_df['count']>=200) & (items_df['count']<=2000)]"
   ]
  },
  {
   "cell_type": "code",
   "execution_count": 105,
   "metadata": {},
   "outputs": [],
   "source": [
    "# filter item ratings in a certain range of cnt and pct\n",
    "min_count=10\n",
    "items_df=items_df[items_df['count']>=min_count]"
   ]
  },
  {
   "cell_type": "code",
   "execution_count": 106,
   "metadata": {},
   "outputs": [
    {
     "data": {
      "text/html": [
       "<div>\n",
       "<style scoped>\n",
       "    .dataframe tbody tr th:only-of-type {\n",
       "        vertical-align: middle;\n",
       "    }\n",
       "\n",
       "    .dataframe tbody tr th {\n",
       "        vertical-align: top;\n",
       "    }\n",
       "\n",
       "    .dataframe thead th {\n",
       "        text-align: right;\n",
       "    }\n",
       "</style>\n",
       "<table border=\"1\" class=\"dataframe\">\n",
       "  <thead>\n",
       "    <tr style=\"text-align: right;\">\n",
       "      <th></th>\n",
       "      <th>Average restaurant rating</th>\n",
       "      <th>Average rater score</th>\n",
       "      <th>Yelp score</th>\n",
       "      <th>count</th>\n",
       "      <th>Yelp score normal</th>\n",
       "      <th>deflator count</th>\n",
       "      <th>inflator count</th>\n",
       "    </tr>\n",
       "    <tr>\n",
       "      <th>item</th>\n",
       "      <th></th>\n",
       "      <th></th>\n",
       "      <th></th>\n",
       "      <th></th>\n",
       "      <th></th>\n",
       "      <th></th>\n",
       "      <th></th>\n",
       "    </tr>\n",
       "  </thead>\n",
       "  <tbody>\n",
       "    <tr>\n",
       "      <th>-3AooxIkg38UyUdlz5oXdw</th>\n",
       "      <td>3.450000</td>\n",
       "      <td>3.759500</td>\n",
       "      <td>3.0</td>\n",
       "      <td>20</td>\n",
       "      <td>3.5</td>\n",
       "      <td>6</td>\n",
       "      <td>5</td>\n",
       "    </tr>\n",
       "    <tr>\n",
       "      <th>-ATiAtTikuGuqvaW2O6tNA</th>\n",
       "      <td>3.232143</td>\n",
       "      <td>3.717321</td>\n",
       "      <td>3.5</td>\n",
       "      <td>56</td>\n",
       "      <td>3.5</td>\n",
       "      <td>10</td>\n",
       "      <td>6</td>\n",
       "    </tr>\n",
       "    <tr>\n",
       "      <th>-Fka99c-tJ-epWYNIobqyQ</th>\n",
       "      <td>3.566667</td>\n",
       "      <td>3.757000</td>\n",
       "      <td>3.5</td>\n",
       "      <td>30</td>\n",
       "      <td>3.5</td>\n",
       "      <td>5</td>\n",
       "      <td>5</td>\n",
       "    </tr>\n",
       "    <tr>\n",
       "      <th>-If0ps0QhOLCYVWQWs9RYg</th>\n",
       "      <td>3.705882</td>\n",
       "      <td>4.047647</td>\n",
       "      <td>3.5</td>\n",
       "      <td>17</td>\n",
       "      <td>3.5</td>\n",
       "      <td>2</td>\n",
       "      <td>6</td>\n",
       "    </tr>\n",
       "    <tr>\n",
       "      <th>-JStjL-8mRZq4ov4uI1FaQ</th>\n",
       "      <td>4.600000</td>\n",
       "      <td>4.227000</td>\n",
       "      <td>4.0</td>\n",
       "      <td>10</td>\n",
       "      <td>5.0</td>\n",
       "      <td>1</td>\n",
       "      <td>5</td>\n",
       "    </tr>\n",
       "  </tbody>\n",
       "</table>\n",
       "</div>"
      ],
      "text/plain": [
       "                        Average restaurant rating  Average rater score  \\\n",
       "item                                                                     \n",
       "-3AooxIkg38UyUdlz5oXdw                   3.450000             3.759500   \n",
       "-ATiAtTikuGuqvaW2O6tNA                   3.232143             3.717321   \n",
       "-Fka99c-tJ-epWYNIobqyQ                   3.566667             3.757000   \n",
       "-If0ps0QhOLCYVWQWs9RYg                   3.705882             4.047647   \n",
       "-JStjL-8mRZq4ov4uI1FaQ                   4.600000             4.227000   \n",
       "\n",
       "                        Yelp score  count  Yelp score normal  deflator count  \\\n",
       "item                                                                           \n",
       "-3AooxIkg38UyUdlz5oXdw         3.0     20                3.5               6   \n",
       "-ATiAtTikuGuqvaW2O6tNA         3.5     56                3.5              10   \n",
       "-Fka99c-tJ-epWYNIobqyQ         3.5     30                3.5               5   \n",
       "-If0ps0QhOLCYVWQWs9RYg         3.5     17                3.5               2   \n",
       "-JStjL-8mRZq4ov4uI1FaQ         4.0     10                5.0               1   \n",
       "\n",
       "                        inflator count  \n",
       "item                                    \n",
       "-3AooxIkg38UyUdlz5oXdw               5  \n",
       "-ATiAtTikuGuqvaW2O6tNA               6  \n",
       "-Fka99c-tJ-epWYNIobqyQ               5  \n",
       "-If0ps0QhOLCYVWQWs9RYg               6  \n",
       "-JStjL-8mRZq4ov4uI1FaQ               5  "
      ]
     },
     "execution_count": 106,
     "metadata": {},
     "output_type": "execute_result"
    }
   ],
   "source": [
    "items_df.head()"
   ]
  },
  {
   "cell_type": "code",
   "execution_count": 107,
   "metadata": {},
   "outputs": [],
   "source": [
    "import seaborn as sns"
   ]
  },
  {
   "cell_type": "code",
   "execution_count": 108,
   "metadata": {},
   "outputs": [
    {
     "data": {
      "image/png": "[encoded data removed]",
      "text/plain": [
       "<Figure size 600x600 with 3 Axes>"
      ]
     },
     "metadata": {},
     "output_type": "display_data"
    }
   ],
   "source": [
    "p=sns.jointplot(data=items_df, x=\"Average restaurant rating\", y=\"Average rater score\", kind=\"reg\", marker=\"*\") #.set(title='Restaurants rated more than 10 times')\n",
    "p.fig.suptitle(\"Restaurants rated more than 10 times\")\n",
    "#p.ax_joint.collections[0].set_alpha(0)\n",
    "#p.fig.tight_layout()\n",
    "p.fig.subplots_adjust(top=0.90) # Reduce plot to make room "
   ]
  },
  {
   "cell_type": "code",
   "execution_count": 109,
   "metadata": {},
   "outputs": [
    {
     "data": {
      "text/plain": [
       "0.34147081465730955"
      ]
     },
     "execution_count": 109,
     "metadata": {},
     "output_type": "execute_result"
    }
   ],
   "source": [
    "result.rsquared"
   ]
  },
  {
   "cell_type": "markdown",
   "metadata": {},
   "source": [
    "# restaurants with more than x ratings\n"
   ]
  },
  {
   "cell_type": "code",
   "execution_count": 110,
   "metadata": {},
   "outputs": [
    {
     "data": {
      "text/plain": [
       "Text(0.5, 0, 'Yelp score')"
      ]
     },
     "execution_count": 110,
     "metadata": {},
     "output_type": "execute_result"
    },
    {
     "data": {
      "image/png": "[encoded data removed]",
      "text/plain": [
       "<Figure size 700x500 with 1 Axes>"
      ]
     },
     "metadata": {},
     "output_type": "display_data"
    }
   ],
   "source": [
    "items_df.groupby('Yelp score').count()['count'].plot.bar()\n",
    "plt.title('Yelp score distribution for restaurants with >10 ratings')\n",
    "plt.ylabel('Count')\n",
    "plt.xlabel('Yelp score')"
   ]
  },
  {
   "cell_type": "code",
   "execution_count": 111,
   "metadata": {},
   "outputs": [
    {
     "data": {
      "text/plain": [
       "Text(0.5, 0, 'Yelp score normal')"
      ]
     },
     "execution_count": 111,
     "metadata": {},
     "output_type": "execute_result"
    },
    {
     "data": {
      "image/png": "[encoded data removed]",
      "text/plain": [
       "<Figure size 700x500 with 1 Axes>"
      ]
     },
     "metadata": {},
     "output_type": "display_data"
    }
   ],
   "source": [
    "items_df.groupby('Yelp score normal').count()['count'].plot.bar()\n",
    "plt.title('Yelp score distribution for restaurants with >10 ratings')\n",
    "plt.ylabel('Count')\n",
    "plt.xlabel('Yelp score normal')"
   ]
  },
  {
   "cell_type": "markdown",
   "metadata": {},
   "source": [
    "# reviewer: are the deflating/inflating raters included in the target rating?\n",
    " if so, the higher variance deflators might have a bigger part in influencing these scores"
   ]
  },
  {
   "cell_type": "code",
   "execution_count": 112,
   "metadata": {},
   "outputs": [],
   "source": [
    "top=items_df[items_df['Yelp score']>=4.5]\n",
    "mid=items_df[items_df['Yelp score']==4]\n",
    "low=items_df[items_df['Yelp score']<=3.5]"
   ]
  },
  {
   "cell_type": "code",
   "execution_count": 113,
   "metadata": {},
   "outputs": [
    {
     "data": {
      "text/plain": [
       "169"
      ]
     },
     "execution_count": 113,
     "metadata": {},
     "output_type": "execute_result"
    }
   ],
   "source": [
    "len(top)"
   ]
  },
  {
   "cell_type": "code",
   "execution_count": 114,
   "metadata": {},
   "outputs": [
    {
     "data": {
      "text/plain": [
       "0.16984924623115577"
      ]
     },
     "execution_count": 114,
     "metadata": {},
     "output_type": "execute_result"
    }
   ],
   "source": [
    "len(top)/len(items_df)"
   ]
  },
  {
   "cell_type": "code",
   "execution_count": 115,
   "metadata": {},
   "outputs": [
    {
     "data": {
      "text/plain": [
       "405"
      ]
     },
     "execution_count": 115,
     "metadata": {},
     "output_type": "execute_result"
    }
   ],
   "source": [
    "len(mid)"
   ]
  },
  {
   "cell_type": "code",
   "execution_count": 116,
   "metadata": {},
   "outputs": [
    {
     "data": {
      "text/plain": [
       "0.40703517587939697"
      ]
     },
     "execution_count": 116,
     "metadata": {},
     "output_type": "execute_result"
    }
   ],
   "source": [
    "len(mid)/len(items_df)"
   ]
  },
  {
   "cell_type": "code",
   "execution_count": 117,
   "metadata": {},
   "outputs": [
    {
     "data": {
      "text/plain": [
       "421"
      ]
     },
     "execution_count": 117,
     "metadata": {},
     "output_type": "execute_result"
    }
   ],
   "source": [
    "len(low)"
   ]
  },
  {
   "cell_type": "code",
   "execution_count": 118,
   "metadata": {},
   "outputs": [
    {
     "data": {
      "text/plain": [
       "0.42311557788944726"
      ]
     },
     "execution_count": 118,
     "metadata": {},
     "output_type": "execute_result"
    }
   ],
   "source": [
    "len(low)/len(items_df)"
   ]
  },
  {
   "cell_type": "code",
   "execution_count": 119,
   "metadata": {},
   "outputs": [
    {
     "data": {
      "text/plain": [
       "0.42311557788944726"
      ]
     },
     "execution_count": 119,
     "metadata": {},
     "output_type": "execute_result"
    }
   ],
   "source": [
    "len(low)/(len(low)+len(mid)+len(top))"
   ]
  },
  {
   "cell_type": "code",
   "execution_count": 120,
   "metadata": {},
   "outputs": [
    {
     "data": {
      "text/plain": [
       "0.40703517587939697"
      ]
     },
     "execution_count": 120,
     "metadata": {},
     "output_type": "execute_result"
    }
   ],
   "source": [
    "len(mid)/(len(low)+len(mid)+len(top))"
   ]
  },
  {
   "cell_type": "code",
   "execution_count": 121,
   "metadata": {},
   "outputs": [
    {
     "data": {
      "text/plain": [
       "0.16984924623115577"
      ]
     },
     "execution_count": 121,
     "metadata": {},
     "output_type": "execute_result"
    }
   ],
   "source": [
    "len(top)/(len(low)+len(mid)+len(top))"
   ]
  },
  {
   "cell_type": "code",
   "execution_count": 122,
   "metadata": {},
   "outputs": [],
   "source": [
    "def sample_ratings_for_restaurant(df,item_ratings,rater_condition,num_samples,color,replace):\n",
    "    # select a type of rater, say inflating or deflating\n",
    "    df=df[rater_condition]\n",
    "    print(len(df))\n",
    "    # only select from qualified restaurants with more ratings than, say 200\n",
    "    subset=df[df['item'].isin(item_ratings.index)]\n",
    "    #print(len(subset))\n",
    "    # sample, with replacement, the ratings from a subset of the selected rater type\n",
    "    #sample=subset.groupby('item', group_keys=False).apply(lambda x: x.sample(num_samples,replace=True))\n",
    "    sample=subset.groupby('item', group_keys=False).apply(lambda x: x.sample(num_samples,replace=replace))\n",
    "    # aggregate by item\n",
    "    ratings=sample[['item','rating']].groupby('item').mean()['rating']\n",
    "    #print(len(ratings))\n",
    "    # select indices of the top, bottom and middle items, according to yelp rating average\n",
    "    top=item_ratings[item_ratings>=4.5]\n",
    "    mid=item_ratings[item_ratings==4]\n",
    "    low=item_ratings[item_ratings<=3.5]\n",
    "    upper_quantile=1-len(top)/len(item_ratings)\n",
    "    #print(upper_quantile)\n",
    "    lower_quantile=len(low)/len(item_ratings)\n",
    "    #print(lower_quantile)\n",
    "    # set thresholds for the top and bottom restaurants\n",
    "    H_thresh=sample[['item','rating']].groupby('item').mean()['rating'].quantile(upper_quantile)\n",
    "    #print(H_thresh)\n",
    "    L_thresh=sample[['item','rating']].groupby('item').mean()['rating'].quantile(lower_quantile)\n",
    "    #print(L_thresh)\n",
    "    # select indices of the top, bottom and middle items\n",
    "    top_index=ratings[ratings>H_thresh].index\n",
    "    mid_index=ratings[(ratings<=H_thresh) & (ratings>=L_thresh)].index\n",
    "    low_index=ratings[ratings<L_thresh].index\n",
    "    \n",
    "    #compute accuracies\n",
    "    accuracies=[]\n",
    "    accuracies.append(len(low_index.intersection(low.index))/len(low.index))\n",
    "    accuracies.append(len(mid_index.intersection(mid.index))/len(mid.index))\n",
    "    accuracies.append(len(top_index.intersection(top.index))/len(top.index))\n",
    "    plt.plot(accuracies,color=color)\n",
    "    return accuracies"
   ]
  },
  {
   "cell_type": "code",
   "execution_count": 123,
   "metadata": {},
   "outputs": [
    {
     "data": {
      "text/plain": [
       "Index(['-3AooxIkg38UyUdlz5oXdw', '-ATiAtTikuGuqvaW2O6tNA',\n",
       "       '-Fka99c-tJ-epWYNIobqyQ', '-If0ps0QhOLCYVWQWs9RYg',\n",
       "       '-JStjL-8mRZq4ov4uI1FaQ', '-K0zTgGyxo-AeSkcV0IVaA',\n",
       "       '-OIUunijjcq_ZzyyQhPPFQ', '-Or44IdY51Ukd618kikmtA',\n",
       "       '-V0vIgo6196MDn_x3ZaYmA', '-WgD54ji0_MgHWgf9WBXrQ',\n",
       "       ...\n",
       "       'zMMSWTHxkLWYR359o-IuAg', 'zQPHrply2yeB1EGNnoS66A',\n",
       "       'zSqTndm5Alq9dW1PyzbdTA', 'zVoxVPHEt11_0GzqNuT2ZQ',\n",
       "       'zYu2D8FzczailDkEMURExg', 'zbvu8pRKcOQqdjqRGbncyQ',\n",
       "       'zmpRwOqxaajeh2YvAKxLaQ', 'zrd6bulYNAKhCdSVtJ8aXQ',\n",
       "       'zu4p6IZLSVn2Noto-vcwzw', 'zxuVnNVAUm16Sro0dS_lmg'],\n",
       "      dtype='object', name='item', length=995)"
      ]
     },
     "execution_count": 123,
     "metadata": {},
     "output_type": "execute_result"
    }
   ],
   "source": [
    "items_df.index"
   ]
  },
  {
   "cell_type": "code",
   "execution_count": 124,
   "metadata": {},
   "outputs": [
    {
     "data": {
      "text/html": [
       "<div>\n",
       "<style scoped>\n",
       "    .dataframe tbody tr th:only-of-type {\n",
       "        vertical-align: middle;\n",
       "    }\n",
       "\n",
       "    .dataframe tbody tr th {\n",
       "        vertical-align: top;\n",
       "    }\n",
       "\n",
       "    .dataframe thead th {\n",
       "        text-align: right;\n",
       "    }\n",
       "</style>\n",
       "<table border=\"1\" class=\"dataframe\">\n",
       "  <thead>\n",
       "    <tr style=\"text-align: right;\">\n",
       "      <th></th>\n",
       "      <th>Average restaurant rating</th>\n",
       "      <th>Average rater score</th>\n",
       "      <th>Yelp score</th>\n",
       "      <th>count</th>\n",
       "      <th>Yelp score normal</th>\n",
       "      <th>deflator count</th>\n",
       "      <th>inflator count</th>\n",
       "    </tr>\n",
       "    <tr>\n",
       "      <th>item</th>\n",
       "      <th></th>\n",
       "      <th></th>\n",
       "      <th></th>\n",
       "      <th></th>\n",
       "      <th></th>\n",
       "      <th></th>\n",
       "      <th></th>\n",
       "    </tr>\n",
       "  </thead>\n",
       "  <tbody>\n",
       "    <tr>\n",
       "      <th>-3AooxIkg38UyUdlz5oXdw</th>\n",
       "      <td>3.450000</td>\n",
       "      <td>3.759500</td>\n",
       "      <td>3.0</td>\n",
       "      <td>20</td>\n",
       "      <td>3.5</td>\n",
       "      <td>6</td>\n",
       "      <td>5</td>\n",
       "    </tr>\n",
       "    <tr>\n",
       "      <th>-ATiAtTikuGuqvaW2O6tNA</th>\n",
       "      <td>3.232143</td>\n",
       "      <td>3.717321</td>\n",
       "      <td>3.5</td>\n",
       "      <td>56</td>\n",
       "      <td>3.5</td>\n",
       "      <td>10</td>\n",
       "      <td>6</td>\n",
       "    </tr>\n",
       "    <tr>\n",
       "      <th>-Fka99c-tJ-epWYNIobqyQ</th>\n",
       "      <td>3.566667</td>\n",
       "      <td>3.757000</td>\n",
       "      <td>3.5</td>\n",
       "      <td>30</td>\n",
       "      <td>3.5</td>\n",
       "      <td>5</td>\n",
       "      <td>5</td>\n",
       "    </tr>\n",
       "    <tr>\n",
       "      <th>-If0ps0QhOLCYVWQWs9RYg</th>\n",
       "      <td>3.705882</td>\n",
       "      <td>4.047647</td>\n",
       "      <td>3.5</td>\n",
       "      <td>17</td>\n",
       "      <td>3.5</td>\n",
       "      <td>2</td>\n",
       "      <td>6</td>\n",
       "    </tr>\n",
       "    <tr>\n",
       "      <th>-JStjL-8mRZq4ov4uI1FaQ</th>\n",
       "      <td>4.600000</td>\n",
       "      <td>4.227000</td>\n",
       "      <td>4.0</td>\n",
       "      <td>10</td>\n",
       "      <td>5.0</td>\n",
       "      <td>1</td>\n",
       "      <td>5</td>\n",
       "    </tr>\n",
       "  </tbody>\n",
       "</table>\n",
       "</div>"
      ],
      "text/plain": [
       "                        Average restaurant rating  Average rater score  \\\n",
       "item                                                                     \n",
       "-3AooxIkg38UyUdlz5oXdw                   3.450000             3.759500   \n",
       "-ATiAtTikuGuqvaW2O6tNA                   3.232143             3.717321   \n",
       "-Fka99c-tJ-epWYNIobqyQ                   3.566667             3.757000   \n",
       "-If0ps0QhOLCYVWQWs9RYg                   3.705882             4.047647   \n",
       "-JStjL-8mRZq4ov4uI1FaQ                   4.600000             4.227000   \n",
       "\n",
       "                        Yelp score  count  Yelp score normal  deflator count  \\\n",
       "item                                                                           \n",
       "-3AooxIkg38UyUdlz5oXdw         3.0     20                3.5               6   \n",
       "-ATiAtTikuGuqvaW2O6tNA         3.5     56                3.5              10   \n",
       "-Fka99c-tJ-epWYNIobqyQ         3.5     30                3.5               5   \n",
       "-If0ps0QhOLCYVWQWs9RYg         3.5     17                3.5               2   \n",
       "-JStjL-8mRZq4ov4uI1FaQ         4.0     10                5.0               1   \n",
       "\n",
       "                        inflator count  \n",
       "item                                    \n",
       "-3AooxIkg38UyUdlz5oXdw               5  \n",
       "-ATiAtTikuGuqvaW2O6tNA               6  \n",
       "-Fka99c-tJ-epWYNIobqyQ               5  \n",
       "-If0ps0QhOLCYVWQWs9RYg               6  \n",
       "-JStjL-8mRZq4ov4uI1FaQ               5  "
      ]
     },
     "execution_count": 124,
     "metadata": {},
     "output_type": "execute_result"
    }
   ],
   "source": [
    "items_df.head()"
   ]
  },
  {
   "cell_type": "code",
   "execution_count": 125,
   "metadata": {},
   "outputs": [
    {
     "data": {
      "text/html": [
       "<div>\n",
       "<style scoped>\n",
       "    .dataframe tbody tr th:only-of-type {\n",
       "        vertical-align: middle;\n",
       "    }\n",
       "\n",
       "    .dataframe tbody tr th {\n",
       "        vertical-align: top;\n",
       "    }\n",
       "\n",
       "    .dataframe thead th {\n",
       "        text-align: right;\n",
       "    }\n",
       "</style>\n",
       "<table border=\"1\" class=\"dataframe\">\n",
       "  <thead>\n",
       "    <tr style=\"text-align: right;\">\n",
       "      <th></th>\n",
       "      <th>Average restaurant rating</th>\n",
       "      <th>Average rater score</th>\n",
       "      <th>Yelp score</th>\n",
       "      <th>count</th>\n",
       "      <th>Yelp score normal</th>\n",
       "      <th>deflator count</th>\n",
       "      <th>inflator count</th>\n",
       "    </tr>\n",
       "    <tr>\n",
       "      <th>item</th>\n",
       "      <th></th>\n",
       "      <th></th>\n",
       "      <th></th>\n",
       "      <th></th>\n",
       "      <th></th>\n",
       "      <th></th>\n",
       "      <th></th>\n",
       "    </tr>\n",
       "  </thead>\n",
       "  <tbody>\n",
       "    <tr>\n",
       "      <th>3Yogz58lIto-kceF2y-THg</th>\n",
       "      <td>3.800000</td>\n",
       "      <td>3.045000</td>\n",
       "      <td>4.0</td>\n",
       "      <td>10</td>\n",
       "      <td>4.5</td>\n",
       "      <td>7</td>\n",
       "      <td>0</td>\n",
       "    </tr>\n",
       "    <tr>\n",
       "      <th>FKrP06TDAKtxNG1vrRQcQQ</th>\n",
       "      <td>2.200000</td>\n",
       "      <td>3.230000</td>\n",
       "      <td>2.5</td>\n",
       "      <td>10</td>\n",
       "      <td>2.5</td>\n",
       "      <td>4</td>\n",
       "      <td>0</td>\n",
       "    </tr>\n",
       "    <tr>\n",
       "      <th>di5ihAL9VWoctHelY8kLTQ</th>\n",
       "      <td>3.666667</td>\n",
       "      <td>3.731667</td>\n",
       "      <td>4.0</td>\n",
       "      <td>12</td>\n",
       "      <td>3.5</td>\n",
       "      <td>1</td>\n",
       "      <td>0</td>\n",
       "    </tr>\n",
       "    <tr>\n",
       "      <th>zCGoQt3VCVP0iT6WtIeHZA</th>\n",
       "      <td>4.100000</td>\n",
       "      <td>3.500000</td>\n",
       "      <td>3.5</td>\n",
       "      <td>10</td>\n",
       "      <td>4.0</td>\n",
       "      <td>5</td>\n",
       "      <td>0</td>\n",
       "    </tr>\n",
       "    <tr>\n",
       "      <th>voAosWO5yGhvppHRKm-7mQ</th>\n",
       "      <td>2.636364</td>\n",
       "      <td>3.650909</td>\n",
       "      <td>3.5</td>\n",
       "      <td>11</td>\n",
       "      <td>3.0</td>\n",
       "      <td>3</td>\n",
       "      <td>0</td>\n",
       "    </tr>\n",
       "    <tr>\n",
       "      <th>...</th>\n",
       "      <td>...</td>\n",
       "      <td>...</td>\n",
       "      <td>...</td>\n",
       "      <td>...</td>\n",
       "      <td>...</td>\n",
       "      <td>...</td>\n",
       "      <td>...</td>\n",
       "    </tr>\n",
       "    <tr>\n",
       "      <th>W4ZEKkva9HpAdZG88juwyQ</th>\n",
       "      <td>4.251121</td>\n",
       "      <td>3.891345</td>\n",
       "      <td>4.0</td>\n",
       "      <td>223</td>\n",
       "      <td>4.0</td>\n",
       "      <td>35</td>\n",
       "      <td>45</td>\n",
       "    </tr>\n",
       "    <tr>\n",
       "      <th>8uF-bhJFgT4Tn6DTb27viA</th>\n",
       "      <td>4.413043</td>\n",
       "      <td>3.997228</td>\n",
       "      <td>4.5</td>\n",
       "      <td>184</td>\n",
       "      <td>4.5</td>\n",
       "      <td>23</td>\n",
       "      <td>46</td>\n",
       "    </tr>\n",
       "    <tr>\n",
       "      <th>UCMSWPqzXjd7QHq7v8PJjQ</th>\n",
       "      <td>4.390244</td>\n",
       "      <td>3.989146</td>\n",
       "      <td>4.5</td>\n",
       "      <td>164</td>\n",
       "      <td>4.5</td>\n",
       "      <td>30</td>\n",
       "      <td>50</td>\n",
       "    </tr>\n",
       "    <tr>\n",
       "      <th>vN6v8m4DO45Z4pp8yxxF_w</th>\n",
       "      <td>4.430693</td>\n",
       "      <td>4.005891</td>\n",
       "      <td>4.5</td>\n",
       "      <td>202</td>\n",
       "      <td>4.5</td>\n",
       "      <td>26</td>\n",
       "      <td>58</td>\n",
       "    </tr>\n",
       "    <tr>\n",
       "      <th>GBTPC53ZrG1ZBY3DT8Mbcw</th>\n",
       "      <td>4.143141</td>\n",
       "      <td>3.888111</td>\n",
       "      <td>4.0</td>\n",
       "      <td>503</td>\n",
       "      <td>4.0</td>\n",
       "      <td>78</td>\n",
       "      <td>103</td>\n",
       "    </tr>\n",
       "  </tbody>\n",
       "</table>\n",
       "<p>995 rows × 7 columns</p>\n",
       "</div>"
      ],
      "text/plain": [
       "                        Average restaurant rating  Average rater score  \\\n",
       "item                                                                     \n",
       "3Yogz58lIto-kceF2y-THg                   3.800000             3.045000   \n",
       "FKrP06TDAKtxNG1vrRQcQQ                   2.200000             3.230000   \n",
       "di5ihAL9VWoctHelY8kLTQ                   3.666667             3.731667   \n",
       "zCGoQt3VCVP0iT6WtIeHZA                   4.100000             3.500000   \n",
       "voAosWO5yGhvppHRKm-7mQ                   2.636364             3.650909   \n",
       "...                                           ...                  ...   \n",
       "W4ZEKkva9HpAdZG88juwyQ                   4.251121             3.891345   \n",
       "8uF-bhJFgT4Tn6DTb27viA                   4.413043             3.997228   \n",
       "UCMSWPqzXjd7QHq7v8PJjQ                   4.390244             3.989146   \n",
       "vN6v8m4DO45Z4pp8yxxF_w                   4.430693             4.005891   \n",
       "GBTPC53ZrG1ZBY3DT8Mbcw                   4.143141             3.888111   \n",
       "\n",
       "                        Yelp score  count  Yelp score normal  deflator count  \\\n",
       "item                                                                           \n",
       "3Yogz58lIto-kceF2y-THg         4.0     10                4.5               7   \n",
       "FKrP06TDAKtxNG1vrRQcQQ         2.5     10                2.5               4   \n",
       "di5ihAL9VWoctHelY8kLTQ         4.0     12                3.5               1   \n",
       "zCGoQt3VCVP0iT6WtIeHZA         3.5     10                4.0               5   \n",
       "voAosWO5yGhvppHRKm-7mQ         3.5     11                3.0               3   \n",
       "...                            ...    ...                ...             ...   \n",
       "W4ZEKkva9HpAdZG88juwyQ         4.0    223                4.0              35   \n",
       "8uF-bhJFgT4Tn6DTb27viA         4.5    184                4.5              23   \n",
       "UCMSWPqzXjd7QHq7v8PJjQ         4.5    164                4.5              30   \n",
       "vN6v8m4DO45Z4pp8yxxF_w         4.5    202                4.5              26   \n",
       "GBTPC53ZrG1ZBY3DT8Mbcw         4.0    503                4.0              78   \n",
       "\n",
       "                        inflator count  \n",
       "item                                    \n",
       "3Yogz58lIto-kceF2y-THg               0  \n",
       "FKrP06TDAKtxNG1vrRQcQQ               0  \n",
       "di5ihAL9VWoctHelY8kLTQ               0  \n",
       "zCGoQt3VCVP0iT6WtIeHZA               0  \n",
       "voAosWO5yGhvppHRKm-7mQ               0  \n",
       "...                                ...  \n",
       "W4ZEKkva9HpAdZG88juwyQ              45  \n",
       "8uF-bhJFgT4Tn6DTb27viA              46  \n",
       "UCMSWPqzXjd7QHq7v8PJjQ              50  \n",
       "vN6v8m4DO45Z4pp8yxxF_w              58  \n",
       "GBTPC53ZrG1ZBY3DT8Mbcw             103  \n",
       "\n",
       "[995 rows x 7 columns]"
      ]
     },
     "execution_count": 125,
     "metadata": {},
     "output_type": "execute_result"
    }
   ],
   "source": [
    "items_df.sort_values('inflator count')"
   ]
  },
  {
   "cell_type": "code",
   "execution_count": 126,
   "metadata": {},
   "outputs": [
    {
     "name": "stdout",
     "output_type": "stream",
     "text": [
      "6220\n"
     ]
    }
   ],
   "source": [
    "rater_condition=(df['pikiness']<deflaters) & (df['count']>min_num_ratings) \n",
    "df_tmp=df[rater_condition]\n",
    "print(len(df_tmp))\n",
    "# only select from qualified restaurants with more ratings than, say 200\n",
    "subset=df_tmp[df_tmp['item'].isin(items_df.index)]"
   ]
  },
  {
   "cell_type": "code",
   "execution_count": 127,
   "metadata": {},
   "outputs": [
    {
     "data": {
      "text/html": [
       "<div>\n",
       "<style scoped>\n",
       "    .dataframe tbody tr th:only-of-type {\n",
       "        vertical-align: middle;\n",
       "    }\n",
       "\n",
       "    .dataframe tbody tr th {\n",
       "        vertical-align: top;\n",
       "    }\n",
       "\n",
       "    .dataframe thead th {\n",
       "        text-align: right;\n",
       "    }\n",
       "</style>\n",
       "<table border=\"1\" class=\"dataframe\">\n",
       "  <thead>\n",
       "    <tr style=\"text-align: right;\">\n",
       "      <th></th>\n",
       "      <th>user</th>\n",
       "      <th>item</th>\n",
       "      <th>rating</th>\n",
       "      <th>review</th>\n",
       "      <th>date</th>\n",
       "      <th>category</th>\n",
       "      <th>name_x</th>\n",
       "      <th>year</th>\n",
       "      <th>count</th>\n",
       "      <th>pikiness</th>\n",
       "      <th>log_count</th>\n",
       "      <th>name_y</th>\n",
       "      <th>item_rating_count</th>\n",
       "      <th>item_rating_avg</th>\n",
       "      <th>city</th>\n",
       "      <th>score_by_normal_raters</th>\n",
       "      <th>norm_pickiness</th>\n",
       "      <th>norm_item_rating_avg</th>\n",
       "      <th>inflator</th>\n",
       "      <th>deflator</th>\n",
       "    </tr>\n",
       "  </thead>\n",
       "  <tbody>\n",
       "    <tr>\n",
       "      <th>9</th>\n",
       "      <td>U7FKiS1eROsSzBg-7Ohr4Q</td>\n",
       "      <td>d_tRshM-w6S4QxE4VVi8tQ</td>\n",
       "      <td>2.0</td>\n",
       "      <td>B</td>\n",
       "      <td>2015-01-05 20:32:47</td>\n",
       "      <td>American (New), Restaurants, Southern, Diners,...</td>\n",
       "      <td>Jones</td>\n",
       "      <td>2015</td>\n",
       "      <td>73</td>\n",
       "      <td>2.64</td>\n",
       "      <td>1.9</td>\n",
       "      <td>Jones</td>\n",
       "      <td>1141</td>\n",
       "      <td>3.5</td>\n",
       "      <td>Philadelphia</td>\n",
       "      <td>4.0</td>\n",
       "      <td>-1.649262</td>\n",
       "      <td>-0.466645</td>\n",
       "      <td>0</td>\n",
       "      <td>1</td>\n",
       "    </tr>\n",
       "    <tr>\n",
       "      <th>12</th>\n",
       "      <td>VFRIv3-_Og34wZyy-LigQQ</td>\n",
       "      <td>d_tRshM-w6S4QxE4VVi8tQ</td>\n",
       "      <td>5.0</td>\n",
       "      <td>J</td>\n",
       "      <td>2012-05-01 20:44:39</td>\n",
       "      <td>American (New), Restaurants, Southern, Diners,...</td>\n",
       "      <td>Jones</td>\n",
       "      <td>2012</td>\n",
       "      <td>479</td>\n",
       "      <td>3.37</td>\n",
       "      <td>2.7</td>\n",
       "      <td>Jones</td>\n",
       "      <td>1141</td>\n",
       "      <td>3.5</td>\n",
       "      <td>Philadelphia</td>\n",
       "      <td>4.0</td>\n",
       "      <td>-0.609684</td>\n",
       "      <td>-0.466645</td>\n",
       "      <td>0</td>\n",
       "      <td>1</td>\n",
       "    </tr>\n",
       "    <tr>\n",
       "      <th>13</th>\n",
       "      <td>GKbnGAzj09-oUK7ZTbox2Q</td>\n",
       "      <td>d_tRshM-w6S4QxE4VVi8tQ</td>\n",
       "      <td>4.0</td>\n",
       "      <td>I</td>\n",
       "      <td>2009-10-16 21:25:42</td>\n",
       "      <td>American (New), Restaurants, Southern, Diners,...</td>\n",
       "      <td>Jones</td>\n",
       "      <td>2009</td>\n",
       "      <td>24</td>\n",
       "      <td>3.04</td>\n",
       "      <td>1.4</td>\n",
       "      <td>Jones</td>\n",
       "      <td>1141</td>\n",
       "      <td>3.5</td>\n",
       "      <td>Philadelphia</td>\n",
       "      <td>4.0</td>\n",
       "      <td>-1.079630</td>\n",
       "      <td>-0.466645</td>\n",
       "      <td>0</td>\n",
       "      <td>1</td>\n",
       "    </tr>\n",
       "    <tr>\n",
       "      <th>17</th>\n",
       "      <td>DrXQ4xmASv5rHwZcdTP0iQ</td>\n",
       "      <td>d_tRshM-w6S4QxE4VVi8tQ</td>\n",
       "      <td>3.0</td>\n",
       "      <td>N</td>\n",
       "      <td>2011-08-02 18:26:45</td>\n",
       "      <td>American (New), Restaurants, Southern, Diners,...</td>\n",
       "      <td>Jones</td>\n",
       "      <td>2011</td>\n",
       "      <td>33</td>\n",
       "      <td>3.23</td>\n",
       "      <td>1.5</td>\n",
       "      <td>Jones</td>\n",
       "      <td>1141</td>\n",
       "      <td>3.5</td>\n",
       "      <td>Philadelphia</td>\n",
       "      <td>4.0</td>\n",
       "      <td>-0.809055</td>\n",
       "      <td>-0.466645</td>\n",
       "      <td>0</td>\n",
       "      <td>1</td>\n",
       "    </tr>\n",
       "    <tr>\n",
       "      <th>22</th>\n",
       "      <td>11xwVSDv1ytjcyvUiyBWaw</td>\n",
       "      <td>d_tRshM-w6S4QxE4VVi8tQ</td>\n",
       "      <td>4.0</td>\n",
       "      <td>S</td>\n",
       "      <td>2011-05-29 16:02:40</td>\n",
       "      <td>American (New), Restaurants, Southern, Diners,...</td>\n",
       "      <td>Jones</td>\n",
       "      <td>2011</td>\n",
       "      <td>71</td>\n",
       "      <td>3.08</td>\n",
       "      <td>1.9</td>\n",
       "      <td>Jones</td>\n",
       "      <td>1141</td>\n",
       "      <td>3.5</td>\n",
       "      <td>Philadelphia</td>\n",
       "      <td>4.0</td>\n",
       "      <td>-1.022667</td>\n",
       "      <td>-0.466645</td>\n",
       "      <td>0</td>\n",
       "      <td>1</td>\n",
       "    </tr>\n",
       "  </tbody>\n",
       "</table>\n",
       "</div>"
      ],
      "text/plain": [
       "                      user                    item  rating review  \\\n",
       "9   U7FKiS1eROsSzBg-7Ohr4Q  d_tRshM-w6S4QxE4VVi8tQ     2.0      B   \n",
       "12  VFRIv3-_Og34wZyy-LigQQ  d_tRshM-w6S4QxE4VVi8tQ     5.0      J   \n",
       "13  GKbnGAzj09-oUK7ZTbox2Q  d_tRshM-w6S4QxE4VVi8tQ     4.0      I   \n",
       "17  DrXQ4xmASv5rHwZcdTP0iQ  d_tRshM-w6S4QxE4VVi8tQ     3.0      N   \n",
       "22  11xwVSDv1ytjcyvUiyBWaw  d_tRshM-w6S4QxE4VVi8tQ     4.0      S   \n",
       "\n",
       "                   date                                           category  \\\n",
       "9   2015-01-05 20:32:47  American (New), Restaurants, Southern, Diners,...   \n",
       "12  2012-05-01 20:44:39  American (New), Restaurants, Southern, Diners,...   \n",
       "13  2009-10-16 21:25:42  American (New), Restaurants, Southern, Diners,...   \n",
       "17  2011-08-02 18:26:45  American (New), Restaurants, Southern, Diners,...   \n",
       "22  2011-05-29 16:02:40  American (New), Restaurants, Southern, Diners,...   \n",
       "\n",
       "   name_x  year  count  pikiness  log_count name_y  item_rating_count  \\\n",
       "9   Jones  2015     73      2.64        1.9  Jones               1141   \n",
       "12  Jones  2012    479      3.37        2.7  Jones               1141   \n",
       "13  Jones  2009     24      3.04        1.4  Jones               1141   \n",
       "17  Jones  2011     33      3.23        1.5  Jones               1141   \n",
       "22  Jones  2011     71      3.08        1.9  Jones               1141   \n",
       "\n",
       "    item_rating_avg          city  score_by_normal_raters  norm_pickiness  \\\n",
       "9               3.5  Philadelphia                     4.0       -1.649262   \n",
       "12              3.5  Philadelphia                     4.0       -0.609684   \n",
       "13              3.5  Philadelphia                     4.0       -1.079630   \n",
       "17              3.5  Philadelphia                     4.0       -0.809055   \n",
       "22              3.5  Philadelphia                     4.0       -1.022667   \n",
       "\n",
       "    norm_item_rating_avg  inflator  deflator  \n",
       "9              -0.466645         0         1  \n",
       "12             -0.466645         0         1  \n",
       "13             -0.466645         0         1  \n",
       "17             -0.466645         0         1  \n",
       "22             -0.466645         0         1  "
      ]
     },
     "execution_count": 127,
     "metadata": {},
     "output_type": "execute_result"
    }
   ],
   "source": [
    "subset.head()"
   ]
  },
  {
   "cell_type": "code",
   "execution_count": 128,
   "metadata": {},
   "outputs": [],
   "source": [
    "sample=subset.groupby('item', group_keys=False).apply(lambda x: x.sample(5,replace=True))"
   ]
  },
  {
   "cell_type": "code",
   "execution_count": 129,
   "metadata": {},
   "outputs": [
    {
     "data": {
      "text/html": [
       "<div>\n",
       "<style scoped>\n",
       "    .dataframe tbody tr th:only-of-type {\n",
       "        vertical-align: middle;\n",
       "    }\n",
       "\n",
       "    .dataframe tbody tr th {\n",
       "        vertical-align: top;\n",
       "    }\n",
       "\n",
       "    .dataframe thead th {\n",
       "        text-align: right;\n",
       "    }\n",
       "</style>\n",
       "<table border=\"1\" class=\"dataframe\">\n",
       "  <thead>\n",
       "    <tr style=\"text-align: right;\">\n",
       "      <th></th>\n",
       "      <th>user</th>\n",
       "      <th>item</th>\n",
       "      <th>rating</th>\n",
       "      <th>review</th>\n",
       "      <th>date</th>\n",
       "      <th>category</th>\n",
       "      <th>name_x</th>\n",
       "      <th>year</th>\n",
       "      <th>count</th>\n",
       "      <th>pikiness</th>\n",
       "      <th>log_count</th>\n",
       "      <th>name_y</th>\n",
       "      <th>item_rating_count</th>\n",
       "      <th>item_rating_avg</th>\n",
       "      <th>city</th>\n",
       "      <th>score_by_normal_raters</th>\n",
       "      <th>norm_pickiness</th>\n",
       "      <th>norm_item_rating_avg</th>\n",
       "      <th>inflator</th>\n",
       "      <th>deflator</th>\n",
       "    </tr>\n",
       "  </thead>\n",
       "  <tbody>\n",
       "    <tr>\n",
       "      <th>32026</th>\n",
       "      <td>4K8jTRdSscnWfsO5qKmU-Q</td>\n",
       "      <td>-3AooxIkg38UyUdlz5oXdw</td>\n",
       "      <td>1.0</td>\n",
       "      <td>H</td>\n",
       "      <td>2016-05-08 03:29:32</td>\n",
       "      <td>Event Planning &amp; Services, Restaurants, Nightl...</td>\n",
       "      <td>Chase Restaurant</td>\n",
       "      <td>2016</td>\n",
       "      <td>113</td>\n",
       "      <td>2.09</td>\n",
       "      <td>2.1</td>\n",
       "      <td>Chase Restaurant</td>\n",
       "      <td>436</td>\n",
       "      <td>3.0</td>\n",
       "      <td>Santa Barbara</td>\n",
       "      <td>3.5</td>\n",
       "      <td>-2.432506</td>\n",
       "      <td>-1.32834</td>\n",
       "      <td>0</td>\n",
       "      <td>1</td>\n",
       "    </tr>\n",
       "    <tr>\n",
       "      <th>32031</th>\n",
       "      <td>JFE-vsCj9PJwqr7C6rhk6g</td>\n",
       "      <td>-3AooxIkg38UyUdlz5oXdw</td>\n",
       "      <td>4.0</td>\n",
       "      <td>I</td>\n",
       "      <td>2012-08-18 15:31:31</td>\n",
       "      <td>Event Planning &amp; Services, Restaurants, Nightl...</td>\n",
       "      <td>Chase Restaurant</td>\n",
       "      <td>2012</td>\n",
       "      <td>138</td>\n",
       "      <td>3.17</td>\n",
       "      <td>2.1</td>\n",
       "      <td>Chase Restaurant</td>\n",
       "      <td>436</td>\n",
       "      <td>3.0</td>\n",
       "      <td>Santa Barbara</td>\n",
       "      <td>3.5</td>\n",
       "      <td>-0.894500</td>\n",
       "      <td>-1.32834</td>\n",
       "      <td>0</td>\n",
       "      <td>1</td>\n",
       "    </tr>\n",
       "    <tr>\n",
       "      <th>32037</th>\n",
       "      <td>bP4Iyslu2ZmAEVAvhfSblg</td>\n",
       "      <td>-3AooxIkg38UyUdlz5oXdw</td>\n",
       "      <td>4.0</td>\n",
       "      <td>M</td>\n",
       "      <td>2016-08-07 05:09:16</td>\n",
       "      <td>Event Planning &amp; Services, Restaurants, Nightl...</td>\n",
       "      <td>Chase Restaurant</td>\n",
       "      <td>2016</td>\n",
       "      <td>58</td>\n",
       "      <td>3.06</td>\n",
       "      <td>1.8</td>\n",
       "      <td>Chase Restaurant</td>\n",
       "      <td>436</td>\n",
       "      <td>3.0</td>\n",
       "      <td>Santa Barbara</td>\n",
       "      <td>3.5</td>\n",
       "      <td>-1.051149</td>\n",
       "      <td>-1.32834</td>\n",
       "      <td>0</td>\n",
       "      <td>1</td>\n",
       "    </tr>\n",
       "    <tr>\n",
       "      <th>32029</th>\n",
       "      <td>lOdaQWKOt9xZjD5vm2qNLg</td>\n",
       "      <td>-3AooxIkg38UyUdlz5oXdw</td>\n",
       "      <td>1.0</td>\n",
       "      <td>I</td>\n",
       "      <td>2012-01-05 17:51:19</td>\n",
       "      <td>Event Planning &amp; Services, Restaurants, Nightl...</td>\n",
       "      <td>Chase Restaurant</td>\n",
       "      <td>2012</td>\n",
       "      <td>12</td>\n",
       "      <td>3.00</td>\n",
       "      <td>1.1</td>\n",
       "      <td>Chase Restaurant</td>\n",
       "      <td>436</td>\n",
       "      <td>3.0</td>\n",
       "      <td>Santa Barbara</td>\n",
       "      <td>3.5</td>\n",
       "      <td>-1.136594</td>\n",
       "      <td>-1.32834</td>\n",
       "      <td>0</td>\n",
       "      <td>1</td>\n",
       "    </tr>\n",
       "    <tr>\n",
       "      <th>32029</th>\n",
       "      <td>lOdaQWKOt9xZjD5vm2qNLg</td>\n",
       "      <td>-3AooxIkg38UyUdlz5oXdw</td>\n",
       "      <td>1.0</td>\n",
       "      <td>I</td>\n",
       "      <td>2012-01-05 17:51:19</td>\n",
       "      <td>Event Planning &amp; Services, Restaurants, Nightl...</td>\n",
       "      <td>Chase Restaurant</td>\n",
       "      <td>2012</td>\n",
       "      <td>12</td>\n",
       "      <td>3.00</td>\n",
       "      <td>1.1</td>\n",
       "      <td>Chase Restaurant</td>\n",
       "      <td>436</td>\n",
       "      <td>3.0</td>\n",
       "      <td>Santa Barbara</td>\n",
       "      <td>3.5</td>\n",
       "      <td>-1.136594</td>\n",
       "      <td>-1.32834</td>\n",
       "      <td>0</td>\n",
       "      <td>1</td>\n",
       "    </tr>\n",
       "  </tbody>\n",
       "</table>\n",
       "</div>"
      ],
      "text/plain": [
       "                         user                    item  rating review  \\\n",
       "32026  4K8jTRdSscnWfsO5qKmU-Q  -3AooxIkg38UyUdlz5oXdw     1.0      H   \n",
       "32031  JFE-vsCj9PJwqr7C6rhk6g  -3AooxIkg38UyUdlz5oXdw     4.0      I   \n",
       "32037  bP4Iyslu2ZmAEVAvhfSblg  -3AooxIkg38UyUdlz5oXdw     4.0      M   \n",
       "32029  lOdaQWKOt9xZjD5vm2qNLg  -3AooxIkg38UyUdlz5oXdw     1.0      I   \n",
       "32029  lOdaQWKOt9xZjD5vm2qNLg  -3AooxIkg38UyUdlz5oXdw     1.0      I   \n",
       "\n",
       "                      date                                           category  \\\n",
       "32026  2016-05-08 03:29:32  Event Planning & Services, Restaurants, Nightl...   \n",
       "32031  2012-08-18 15:31:31  Event Planning & Services, Restaurants, Nightl...   \n",
       "32037  2016-08-07 05:09:16  Event Planning & Services, Restaurants, Nightl...   \n",
       "32029  2012-01-05 17:51:19  Event Planning & Services, Restaurants, Nightl...   \n",
       "32029  2012-01-05 17:51:19  Event Planning & Services, Restaurants, Nightl...   \n",
       "\n",
       "                 name_x  year  count  pikiness  log_count            name_y  \\\n",
       "32026  Chase Restaurant  2016    113      2.09        2.1  Chase Restaurant   \n",
       "32031  Chase Restaurant  2012    138      3.17        2.1  Chase Restaurant   \n",
       "32037  Chase Restaurant  2016     58      3.06        1.8  Chase Restaurant   \n",
       "32029  Chase Restaurant  2012     12      3.00        1.1  Chase Restaurant   \n",
       "32029  Chase Restaurant  2012     12      3.00        1.1  Chase Restaurant   \n",
       "\n",
       "       item_rating_count  item_rating_avg           city  \\\n",
       "32026                436              3.0  Santa Barbara   \n",
       "32031                436              3.0  Santa Barbara   \n",
       "32037                436              3.0  Santa Barbara   \n",
       "32029                436              3.0  Santa Barbara   \n",
       "32029                436              3.0  Santa Barbara   \n",
       "\n",
       "       score_by_normal_raters  norm_pickiness  norm_item_rating_avg  inflator  \\\n",
       "32026                     3.5       -2.432506              -1.32834         0   \n",
       "32031                     3.5       -0.894500              -1.32834         0   \n",
       "32037                     3.5       -1.051149              -1.32834         0   \n",
       "32029                     3.5       -1.136594              -1.32834         0   \n",
       "32029                     3.5       -1.136594              -1.32834         0   \n",
       "\n",
       "       deflator  \n",
       "32026         1  \n",
       "32031         1  \n",
       "32037         1  \n",
       "32029         1  \n",
       "32029         1  "
      ]
     },
     "execution_count": 129,
     "metadata": {},
     "output_type": "execute_result"
    }
   ],
   "source": [
    "sample.head()"
   ]
  },
  {
   "cell_type": "code",
   "execution_count": 130,
   "metadata": {},
   "outputs": [
    {
     "data": {
      "text/html": [
       "<div>\n",
       "<style scoped>\n",
       "    .dataframe tbody tr th:only-of-type {\n",
       "        vertical-align: middle;\n",
       "    }\n",
       "\n",
       "    .dataframe tbody tr th {\n",
       "        vertical-align: top;\n",
       "    }\n",
       "\n",
       "    .dataframe thead th {\n",
       "        text-align: right;\n",
       "    }\n",
       "</style>\n",
       "<table border=\"1\" class=\"dataframe\">\n",
       "  <thead>\n",
       "    <tr style=\"text-align: right;\">\n",
       "      <th></th>\n",
       "      <th>Average restaurant rating</th>\n",
       "      <th>Average rater score</th>\n",
       "      <th>Yelp score</th>\n",
       "      <th>count</th>\n",
       "      <th>Yelp score normal</th>\n",
       "      <th>deflator count</th>\n",
       "      <th>inflator count</th>\n",
       "    </tr>\n",
       "    <tr>\n",
       "      <th>item</th>\n",
       "      <th></th>\n",
       "      <th></th>\n",
       "      <th></th>\n",
       "      <th></th>\n",
       "      <th></th>\n",
       "      <th></th>\n",
       "      <th></th>\n",
       "    </tr>\n",
       "  </thead>\n",
       "  <tbody>\n",
       "    <tr>\n",
       "      <th>-3AooxIkg38UyUdlz5oXdw</th>\n",
       "      <td>3.450000</td>\n",
       "      <td>3.759500</td>\n",
       "      <td>3.0</td>\n",
       "      <td>20</td>\n",
       "      <td>3.5</td>\n",
       "      <td>6</td>\n",
       "      <td>5</td>\n",
       "    </tr>\n",
       "    <tr>\n",
       "      <th>-ATiAtTikuGuqvaW2O6tNA</th>\n",
       "      <td>3.232143</td>\n",
       "      <td>3.717321</td>\n",
       "      <td>3.5</td>\n",
       "      <td>56</td>\n",
       "      <td>3.5</td>\n",
       "      <td>10</td>\n",
       "      <td>6</td>\n",
       "    </tr>\n",
       "    <tr>\n",
       "      <th>-Fka99c-tJ-epWYNIobqyQ</th>\n",
       "      <td>3.566667</td>\n",
       "      <td>3.757000</td>\n",
       "      <td>3.5</td>\n",
       "      <td>30</td>\n",
       "      <td>3.5</td>\n",
       "      <td>5</td>\n",
       "      <td>5</td>\n",
       "    </tr>\n",
       "    <tr>\n",
       "      <th>-If0ps0QhOLCYVWQWs9RYg</th>\n",
       "      <td>3.705882</td>\n",
       "      <td>4.047647</td>\n",
       "      <td>3.5</td>\n",
       "      <td>17</td>\n",
       "      <td>3.5</td>\n",
       "      <td>2</td>\n",
       "      <td>6</td>\n",
       "    </tr>\n",
       "    <tr>\n",
       "      <th>-JStjL-8mRZq4ov4uI1FaQ</th>\n",
       "      <td>4.600000</td>\n",
       "      <td>4.227000</td>\n",
       "      <td>4.0</td>\n",
       "      <td>10</td>\n",
       "      <td>5.0</td>\n",
       "      <td>1</td>\n",
       "      <td>5</td>\n",
       "    </tr>\n",
       "  </tbody>\n",
       "</table>\n",
       "</div>"
      ],
      "text/plain": [
       "                        Average restaurant rating  Average rater score  \\\n",
       "item                                                                     \n",
       "-3AooxIkg38UyUdlz5oXdw                   3.450000             3.759500   \n",
       "-ATiAtTikuGuqvaW2O6tNA                   3.232143             3.717321   \n",
       "-Fka99c-tJ-epWYNIobqyQ                   3.566667             3.757000   \n",
       "-If0ps0QhOLCYVWQWs9RYg                   3.705882             4.047647   \n",
       "-JStjL-8mRZq4ov4uI1FaQ                   4.600000             4.227000   \n",
       "\n",
       "                        Yelp score  count  Yelp score normal  deflator count  \\\n",
       "item                                                                           \n",
       "-3AooxIkg38UyUdlz5oXdw         3.0     20                3.5               6   \n",
       "-ATiAtTikuGuqvaW2O6tNA         3.5     56                3.5              10   \n",
       "-Fka99c-tJ-epWYNIobqyQ         3.5     30                3.5               5   \n",
       "-If0ps0QhOLCYVWQWs9RYg         3.5     17                3.5               2   \n",
       "-JStjL-8mRZq4ov4uI1FaQ         4.0     10                5.0               1   \n",
       "\n",
       "                        inflator count  \n",
       "item                                    \n",
       "-3AooxIkg38UyUdlz5oXdw               5  \n",
       "-ATiAtTikuGuqvaW2O6tNA               6  \n",
       "-Fka99c-tJ-epWYNIobqyQ               5  \n",
       "-If0ps0QhOLCYVWQWs9RYg               6  \n",
       "-JStjL-8mRZq4ov4uI1FaQ               5  "
      ]
     },
     "execution_count": 130,
     "metadata": {},
     "output_type": "execute_result"
    }
   ],
   "source": [
    "(items_df).head()"
   ]
  },
  {
   "cell_type": "code",
   "execution_count": 131,
   "metadata": {},
   "outputs": [],
   "source": [
    "#items_df=(items_df[(items_df['Yelp score']>3) &(items_df['Yelp score']<5) & (items_df['deflator count']>50) &(items_df_200['inflator count']>50)])"
   ]
  },
  {
   "cell_type": "code",
   "execution_count": 132,
   "metadata": {},
   "outputs": [
    {
     "data": {
      "text/plain": [
       "3"
      ]
     },
     "execution_count": 132,
     "metadata": {},
     "output_type": "execute_result"
    }
   ],
   "source": [
    "len(items_df_200)"
   ]
  },
  {
   "cell_type": "code",
   "execution_count": 133,
   "metadata": {},
   "outputs": [
    {
     "data": {
      "text/plain": [
       "163"
      ]
     },
     "execution_count": 133,
     "metadata": {},
     "output_type": "execute_result"
    }
   ],
   "source": [
    "len(items_df[items_df['Yelp score']==4.5])"
   ]
  },
  {
   "cell_type": "code",
   "execution_count": 134,
   "metadata": {},
   "outputs": [
    {
     "data": {
      "text/plain": [
       "405"
      ]
     },
     "execution_count": 134,
     "metadata": {},
     "output_type": "execute_result"
    }
   ],
   "source": [
    "len(items_df[items_df['Yelp score']==4])"
   ]
  },
  {
   "cell_type": "code",
   "execution_count": 135,
   "metadata": {},
   "outputs": [
    {
     "data": {
      "text/plain": [
       "270"
      ]
     },
     "execution_count": 135,
     "metadata": {},
     "output_type": "execute_result"
    }
   ],
   "source": [
    "len(items_df[items_df['Yelp score']==3.5])"
   ]
  },
  {
   "cell_type": "code",
   "execution_count": 136,
   "metadata": {},
   "outputs": [
    {
     "data": {
      "text/plain": [
       "[<matplotlib.lines.Line2D at 0x2a48f8970>]"
      ]
     },
     "execution_count": 136,
     "metadata": {},
     "output_type": "execute_result"
    },
    {
     "data": {
      "image/png": "[encoded data removed]",
      "text/plain": [
       "<Figure size 700x500 with 1 Axes>"
      ]
     },
     "metadata": {},
     "output_type": "display_data"
    }
   ],
   "source": [
    "baseline=[]\n",
    "baseline.append(len(items_df[items_df['Yelp score']==4.5])/len(items_df['Yelp score']))\n",
    "\n",
    "baseline.append(len(items_df[items_df['Yelp score']==4])/len(items_df['Yelp score']))\n",
    "baseline.append(len(items_df[items_df['Yelp score']==3.5])/len(items_df['Yelp score']))\n",
    "plt.plot(baseline,'g')"
   ]
  },
  {
   "cell_type": "code",
   "execution_count": 137,
   "metadata": {},
   "outputs": [
    {
     "data": {
      "text/plain": [
       "[0.16381909547738693, 0.40703517587939697, 0.271356783919598]"
      ]
     },
     "execution_count": 137,
     "metadata": {},
     "output_type": "execute_result"
    }
   ],
   "source": [
    "baseline"
   ]
  },
  {
   "cell_type": "markdown",
   "metadata": {},
   "source": [
    "# Main Result\n",
    "\n",
    "Picky raters are more accurate at predicting restaurants with more than 200 ratings in the 4.5 stars group.\n",
    "\n"
   ]
  },
  {
   "cell_type": "code",
   "execution_count": 138,
   "metadata": {},
   "outputs": [
    {
     "name": "stdout",
     "output_type": "stream",
     "text": [
      "3.43\n",
      "4.31\n",
      "6443\n",
      "5625\n",
      "6443\n",
      "5625\n",
      "6443\n",
      "5625\n",
      "6443\n",
      "5625\n",
      "6443\n",
      "5625\n",
      "6443\n",
      "5625\n",
      "6443\n",
      "5625\n",
      "6443\n",
      "5625\n",
      "6443\n",
      "5625\n",
      "6443\n",
      "5625\n",
      "6443\n",
      "5625\n",
      "6443\n",
      "5625\n",
      "6443\n",
      "5625\n",
      "6443\n",
      "5625\n",
      "6443\n",
      "5625\n",
      "6443\n",
      "5625\n",
      "6443\n",
      "5625\n",
      "6443\n",
      "5625\n",
      "6443\n",
      "5625\n",
      "6443\n",
      "5625\n",
      "6443\n",
      "5625\n",
      "6443\n",
      "5625\n",
      "6443\n",
      "5625\n",
      "6443\n",
      "5625\n",
      "6443\n",
      "5625\n",
      "6443\n",
      "5625\n",
      "6443\n",
      "5625\n",
      "6443\n",
      "5625\n",
      "6443\n",
      "5625\n",
      "6443\n",
      "5625\n",
      "6443\n",
      "5625\n",
      "6443\n",
      "5625\n",
      "6443\n",
      "5625\n",
      "6443\n",
      "5625\n",
      "6443\n",
      "5625\n",
      "6443\n",
      "5625\n",
      "6443\n",
      "5625\n",
      "6443\n",
      "5625\n",
      "6443\n",
      "5625\n",
      "6443\n",
      "5625\n",
      "6443\n",
      "5625\n",
      "6443\n",
      "5625\n",
      "6443\n",
      "5625\n",
      "6443\n",
      "5625\n",
      "6443\n",
      "5625\n",
      "6443\n",
      "5625\n",
      "6443\n",
      "5625\n",
      "6443\n",
      "5625\n",
      "6443\n",
      "5625\n",
      "6443\n",
      "5625\n"
     ]
    },
    {
     "data": {
      "text/plain": [
       "[<matplotlib.lines.Line2D at 0x2a2788760>]"
      ]
     },
     "execution_count": 138,
     "metadata": {},
     "output_type": "execute_result"
    },
    {
     "data": {
      "image/png": "[encoded data removed]",
      "text/plain": [
       "<Figure size 700x500 with 1 Axes>"
      ]
     },
     "metadata": {},
     "output_type": "display_data"
    }
   ],
   "source": [
    "picky_accuracy_lo=[]\n",
    "picky_accuracy_mid=[]\n",
    "picky_accuracy_hi=[]\n",
    "infl_accuracy_lo=[]\n",
    "infl_accuracy_mid=[]\n",
    "infl_accuracy_hi=[]\n",
    "\n",
    "min_num_ratings=4\n",
    "#min_num_ratings=9\n",
    "#  we should select users with more than 10 ratings for our thresholds\n",
    "deflaters=df_yelp_users[df_yelp_users['count']>min_num_ratings]['pikiness'].quantile(.25)\n",
    "inflaters=df_yelp_users[df_yelp_users['count']>min_num_ratings]['pikiness'].quantile(.75)\n",
    "# referee: should restaurant_scores only be computed out of sample?\n",
    "# select ratings by \"normal\" users\n",
    "restaurant_scores=items_df['Yelp score']\n",
    "print(deflaters)\n",
    "print(inflaters)\n",
    "number_of_samples=10\n",
    "for i in range(0,50):\n",
    "    condition=(df['pikiness']<deflaters) & (df['count']>min_num_ratings) \n",
    "    a=sample_ratings_for_restaurant(df,restaurant_scores, condition,number_of_samples,'r',True)\n",
    "    picky_accuracy_lo.append(a[0])\n",
    "    picky_accuracy_mid.append(a[1])\n",
    "    picky_accuracy_hi.append(a[2])\n",
    "    condition=(df['pikiness']>inflaters) & (df['count']>min_num_ratings) \n",
    "    b=sample_ratings_for_restaurant(df,restaurant_scores, condition,number_of_samples,'b',True)\n",
    "    infl_accuracy_lo.append(b[0])\n",
    "    infl_accuracy_mid.append(b[1])\n",
    "    infl_accuracy_hi.append(b[2])\n",
    "\n",
    "plt.plot(baseline,'g')"
   ]
  },
  {
   "cell_type": "code",
   "execution_count": 139,
   "metadata": {},
   "outputs": [
    {
     "data": {
      "text/plain": [
       "<matplotlib.legend.Legend at 0x2ab62bca0>"
      ]
     },
     "execution_count": 139,
     "metadata": {},
     "output_type": "execute_result"
    },
    {
     "data": {
      "image/png": "[encoded data removed]",
      "text/plain": [
       "<Figure size 700x500 with 1 Axes>"
      ]
     },
     "metadata": {},
     "output_type": "display_data"
    }
   ],
   "source": [
    "defl=(np.mean(picky_accuracy_lo).round(2), np.mean(picky_accuracy_mid).round(2), np.mean(picky_accuracy_hi).round(2))\n",
    "infl=(np.mean(infl_accuracy_lo).round(2), np.mean(infl_accuracy_mid).round(2), np.mean(infl_accuracy_hi).round(2))\n",
    "defl_eb=(np.std(picky_accuracy_lo).round(2), np.std(picky_accuracy_mid).round(2), np.std(picky_accuracy_hi).round(2))\n",
    "infl_eb=(np.std(infl_accuracy_lo).round(2), np.std(infl_accuracy_mid).round(2), np.std(infl_accuracy_hi).round(2))\n",
    "fig,ax=plt.subplots()\n",
    "ax.errorbar([3.5,4,4.5],defl,yerr=defl_eb,color='r',label='Deflating raters')\n",
    "ax.errorbar([3.5,4,4.5],infl,yerr=infl_eb,color='b',label='Inflating raters')\n",
    "plt.plot([3.5,4,4.5],baseline,'g',label='Random baseline')\n",
    "plt.xlim([3.25,4.75])\n",
    "ax.set_xticks([3.5,4,4.5])\n",
    "plt.xlabel('Yelp score')\n",
    "plt.ylabel('Accuracy')\n",
    "plt.legend(loc='upper left')"
   ]
  },
  {
   "cell_type": "markdown",
   "metadata": {},
   "source": [
    "# referee: do the same with Yelp Score norm\n",
    "to avoid the effect whereby higher variance ratings might have an outsized impact"
   ]
  },
  {
   "cell_type": "code",
   "execution_count": 140,
   "metadata": {},
   "outputs": [
    {
     "name": "stdout",
     "output_type": "stream",
     "text": [
      "3.43\n",
      "4.31\n",
      "6443\n",
      "5625\n",
      "6443\n",
      "5625\n",
      "6443\n",
      "5625\n",
      "6443\n",
      "5625\n",
      "6443\n",
      "5625\n",
      "6443\n",
      "5625\n",
      "6443\n",
      "5625\n",
      "6443\n",
      "5625\n",
      "6443\n",
      "5625\n",
      "6443\n",
      "5625\n",
      "6443\n",
      "5625\n",
      "6443\n",
      "5625\n",
      "6443\n",
      "5625\n",
      "6443\n",
      "5625\n",
      "6443\n",
      "5625\n",
      "6443\n",
      "5625\n",
      "6443\n",
      "5625\n",
      "6443\n",
      "5625\n",
      "6443\n",
      "5625\n",
      "6443\n",
      "5625\n",
      "6443\n",
      "5625\n",
      "6443\n",
      "5625\n",
      "6443\n",
      "5625\n",
      "6443\n",
      "5625\n",
      "6443\n",
      "5625\n",
      "6443\n",
      "5625\n",
      "6443\n",
      "5625\n",
      "6443\n",
      "5625\n",
      "6443\n",
      "5625\n",
      "6443\n",
      "5625\n",
      "6443\n",
      "5625\n",
      "6443\n",
      "5625\n",
      "6443\n",
      "5625\n",
      "6443\n",
      "5625\n",
      "6443\n",
      "5625\n",
      "6443\n",
      "5625\n",
      "6443\n",
      "5625\n",
      "6443\n",
      "5625\n",
      "6443\n",
      "5625\n",
      "6443\n",
      "5625\n",
      "6443\n",
      "5625\n",
      "6443\n",
      "5625\n",
      "6443\n",
      "5625\n",
      "6443\n",
      "5625\n",
      "6443\n",
      "5625\n",
      "6443\n",
      "5625\n",
      "6443\n",
      "5625\n",
      "6443\n",
      "5625\n",
      "6443\n",
      "5625\n",
      "6443\n",
      "5625\n"
     ]
    },
    {
     "data": {
      "text/plain": [
       "[<matplotlib.lines.Line2D at 0x2a3014b20>]"
      ]
     },
     "execution_count": 140,
     "metadata": {},
     "output_type": "execute_result"
    },
    {
     "data": {
      "image/png": "[encoded data removed]",
      "text/plain": [
       "<Figure size 700x500 with 1 Axes>"
      ]
     },
     "metadata": {},
     "output_type": "display_data"
    }
   ],
   "source": [
    "picky_accuracy_lo=[]\n",
    "picky_accuracy_mid=[]\n",
    "picky_accuracy_hi=[]\n",
    "infl_accuracy_lo=[]\n",
    "infl_accuracy_mid=[]\n",
    "infl_accuracy_hi=[]\n",
    "\n",
    "min_num_ratings=4\n",
    "#min_num_ratings=9\n",
    "#  we should select users with more than 10 ratings for our thresholds\n",
    "deflaters=df_yelp_users[df_yelp_users['count']>min_num_ratings]['pikiness'].quantile(.25)\n",
    "inflaters=df_yelp_users[df_yelp_users['count']>min_num_ratings]['pikiness'].quantile(.75)\n",
    "# referee: should restaurant_scores only be computed out of sample?\n",
    "# select ratings by \"normal\" users\n",
    "restaurant_scores=items_df['Yelp score normal']\n",
    "print(deflaters)\n",
    "print(inflaters)\n",
    "for i in range(0,50):\n",
    "    condition=(df['pikiness']<deflaters) & (df['count']>min_num_ratings) \n",
    "    a=sample_ratings_for_restaurant(df,restaurant_scores, condition,10,'r',True)\n",
    "    picky_accuracy_lo.append(a[0])\n",
    "    picky_accuracy_mid.append(a[1])\n",
    "    picky_accuracy_hi.append(a[2])\n",
    "    condition=(df['pikiness']>inflaters) & (df['count']>min_num_ratings) \n",
    "    b=sample_ratings_for_restaurant(df,restaurant_scores, condition,10,'b',True)\n",
    "    infl_accuracy_lo.append(b[0])\n",
    "    infl_accuracy_mid.append(b[1])\n",
    "    infl_accuracy_hi.append(b[2])\n",
    "\n",
    "plt.plot(baseline,'g')"
   ]
  },
  {
   "cell_type": "code",
   "execution_count": 141,
   "metadata": {},
   "outputs": [
    {
     "data": {
      "text/plain": [
       "<matplotlib.legend.Legend at 0x2ab75ce50>"
      ]
     },
     "execution_count": 141,
     "metadata": {},
     "output_type": "execute_result"
    },
    {
     "data": {
      "image/png": "[encoded data removed]",
      "text/plain": [
       "<Figure size 700x500 with 1 Axes>"
      ]
     },
     "metadata": {},
     "output_type": "display_data"
    }
   ],
   "source": [
    "defl=(np.mean(picky_accuracy_lo).round(2), np.mean(picky_accuracy_mid).round(2), np.mean(picky_accuracy_hi).round(2))\n",
    "infl=(np.mean(infl_accuracy_lo).round(2), np.mean(infl_accuracy_mid).round(2), np.mean(infl_accuracy_hi).round(2))\n",
    "defl_eb=(np.std(picky_accuracy_lo).round(2), np.std(picky_accuracy_mid).round(2), np.std(picky_accuracy_hi).round(2))\n",
    "infl_eb=(np.std(infl_accuracy_lo).round(2), np.std(infl_accuracy_mid).round(2), np.std(infl_accuracy_hi).round(2))\n",
    "fig,ax=plt.subplots()\n",
    "ax.errorbar([3.5,4,4.5],defl,yerr=defl_eb,color='r',label='Deflating raters')\n",
    "ax.errorbar([3.5,4,4.5],infl,yerr=infl_eb,color='b',label='Inflating raters')\n",
    "plt.plot([3.5,4,4.5],baseline,'g',label='Random baseline')\n",
    "plt.xlim([3.25,4.75])\n",
    "ax.set_xticks([3.5,4,4.5])\n",
    "plt.xlabel('Yelp score')\n",
    "plt.ylabel('Accuracy')\n",
    "plt.legend(loc='lower left')"
   ]
  },
  {
   "cell_type": "code",
   "execution_count": null,
   "metadata": {
    "collapsed": true,
    "jupyter": {
     "outputs_hidden": true
    }
   },
   "outputs": [],
   "source": []
  },
  {
   "cell_type": "code",
   "execution_count": 142,
   "metadata": {},
   "outputs": [
    {
     "data": {
      "text/plain": [
       "(0.5, 0.44, 0.41)"
      ]
     },
     "execution_count": 142,
     "metadata": {},
     "output_type": "execute_result"
    }
   ],
   "source": [
    "defl"
   ]
  },
  {
   "cell_type": "code",
   "execution_count": 143,
   "metadata": {},
   "outputs": [
    {
     "data": {
      "text/plain": [
       "(0.41, 0.63, 0.0)"
      ]
     },
     "execution_count": 143,
     "metadata": {},
     "output_type": "execute_result"
    }
   ],
   "source": [
    "infl"
   ]
  },
  {
   "cell_type": "code",
   "execution_count": null,
   "metadata": {
    "collapsed": true,
    "jupyter": {
     "outputs_hidden": true
    }
   },
   "outputs": [],
   "source": []
  }
 ],
 "metadata": {
  "kernelspec": {
   "display_name": "Python 3 (ipykernel)",
   "language": "python",
   "name": "python3"
  },
  "language_info": {
   "codemirror_mode": {
    "name": "ipython",
    "version": 3
   },
   "file_extension": ".py",
   "mimetype": "text/x-python",
   "name": "python",
   "nbconvert_exporter": "python",
   "pygments_lexer": "ipython3",
   "version": "3.9.6"
  }
 },
 "nbformat": 4,
 "nbformat_minor": 4
}
